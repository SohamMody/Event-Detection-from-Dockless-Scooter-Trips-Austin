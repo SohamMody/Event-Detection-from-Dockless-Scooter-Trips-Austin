{
 "cells": [
  {
   "cell_type": "code",
   "execution_count": 23,
   "metadata": {},
   "outputs": [],
   "source": [
    "import numpy as np\n",
    "import pandas as pd\n",
    "import geopandas as gpd\n",
    "import os\n",
    "pd.set_option('display.max_columns', 50)"
   ]
  },
  {
   "cell_type": "markdown",
   "metadata": {},
   "source": [
    "Link to open dataset which does not have lat-longs."
   ]
  },
  {
   "cell_type": "code",
   "execution_count": 8,
   "metadata": {},
   "outputs": [],
   "source": [
    "# test = pd.read_csv('https://data.austintexas.gov/api/views/7d8e-dm7r/rows.csv?accessType=DOWNLOAD')"
   ]
  },
  {
   "cell_type": "code",
   "execution_count": 4,
   "metadata": {},
   "outputs": [
    {
     "name": "stderr",
     "output_type": "stream",
     "text": [
      "/anaconda3/lib/python3.7/site-packages/IPython/core/interactiveshell.py:3020: DtypeWarning: Columns (13) have mixed types. Specify dtype option on import or set low_memory=False.\n",
      "  interactivity=interactivity, compiler=compiler, result=result)\n"
     ]
    }
   ],
   "source": [
    "# Ensuring that the pandas parser interprets dates as dates\n",
    "dockless = pd.read_csv('https://s3.amazonaws.com/sameera-bucket-1/dockless_mobility/raw_data/Austin_Dockless_Vehicle_Trips.csv'\\\n",
    "                       ,infer_datetime_format=True,parse_dates=['Start Time','End Time'],encoding='ascii')"
   ]
  },
  {
   "cell_type": "code",
   "execution_count": 6,
   "metadata": {},
   "outputs": [],
   "source": [
    "# Fixing the names of the columns\n",
    "dockless.columns = dockless.columns.str.strip().str.lower().str.replace(' ', '_').str.replace('(', '').str.replace(')', '')"
   ]
  },
  {
   "cell_type": "code",
   "execution_count": 12,
   "metadata": {},
   "outputs": [
    {
     "name": "stdout",
     "output_type": "stream",
     "text": [
      "<class 'pandas.core.frame.DataFrame'>\n",
      "RangeIndex: 2746505 entries, 0 to 2746504\n",
      "Data columns (total 20 columns):\n",
      "id                        object\n",
      "device_id                 object\n",
      "vehicle_type              object\n",
      "trip_duration             float64\n",
      "trip_distance             float64\n",
      "start_time                datetime64[ns]\n",
      "end_time                  datetime64[ns]\n",
      "modified_date             object\n",
      "month                     float64\n",
      "hour                      float64\n",
      "day_of_week               float64\n",
      "council_district_start    float64\n",
      "council_district_end      float64\n",
      "origin_cell_id            object\n",
      "destination_cell_id       object\n",
      "year                      float64\n",
      "start_latitude            float64\n",
      "start_longitude           float64\n",
      "end_latitude              float64\n",
      "end_longitude             float64\n",
      "dtypes: datetime64[ns](2), float64(12), object(6)\n",
      "memory usage: 419.1+ MB\n"
     ]
    }
   ],
   "source": [
    "dockless.info()"
   ]
  },
  {
   "cell_type": "code",
   "execution_count": 20,
   "metadata": {},
   "outputs": [
    {
     "data": {
      "text/plain": [
       "014706           60248\n",
       "014707           58180\n",
       "014864           56408\n",
       "014705           52553\n",
       "015186           46612\n",
       "015019           42919\n",
       "014865           42406\n",
       "014863           42273\n",
       "014391           41524\n",
       "015029           38675\n",
       "014715           38111\n",
       "OUT_OF_BOUNDS    37798\n",
       "014873           37255\n",
       "015021           34557\n",
       "014549           32671\n",
       "Name: origin_cell_id, dtype: int64"
      ]
     },
     "execution_count": 20,
     "metadata": {},
     "output_type": "execute_result"
    }
   ],
   "source": [
    "dockless.origin_cell_id.value_counts()[:15]"
   ]
  },
  {
   "cell_type": "markdown",
   "metadata": {},
   "source": [
    "#### Origin cell id has 'Out_of_bounds' values in many cases so; looking into that"
   ]
  },
  {
   "cell_type": "code",
   "execution_count": 15,
   "metadata": {},
   "outputs": [
    {
     "data": {
      "text/html": [
       "<div>\n",
       "<style scoped>\n",
       "    .dataframe tbody tr th:only-of-type {\n",
       "        vertical-align: middle;\n",
       "    }\n",
       "\n",
       "    .dataframe tbody tr th {\n",
       "        vertical-align: top;\n",
       "    }\n",
       "\n",
       "    .dataframe thead th {\n",
       "        text-align: right;\n",
       "    }\n",
       "</style>\n",
       "<table border=\"1\" class=\"dataframe\">\n",
       "  <thead>\n",
       "    <tr style=\"text-align: right;\">\n",
       "      <th></th>\n",
       "      <th>id</th>\n",
       "      <th>device_id</th>\n",
       "      <th>vehicle_type</th>\n",
       "      <th>trip_duration</th>\n",
       "      <th>trip_distance</th>\n",
       "      <th>start_time</th>\n",
       "      <th>end_time</th>\n",
       "      <th>modified_date</th>\n",
       "      <th>month</th>\n",
       "      <th>hour</th>\n",
       "      <th>day_of_week</th>\n",
       "      <th>council_district_start</th>\n",
       "      <th>council_district_end</th>\n",
       "      <th>origin_cell_id</th>\n",
       "      <th>destination_cell_id</th>\n",
       "      <th>year</th>\n",
       "      <th>start_latitude</th>\n",
       "      <th>start_longitude</th>\n",
       "      <th>end_latitude</th>\n",
       "      <th>end_longitude</th>\n",
       "    </tr>\n",
       "  </thead>\n",
       "  <tbody>\n",
       "    <tr>\n",
       "      <th>118</th>\n",
       "      <td>00034de2-79b4-44e6-b0a4-cf4a6515e51c</td>\n",
       "      <td>722ceae4-82f1-4f4f-93dd-d1de1030de3e</td>\n",
       "      <td>scooter</td>\n",
       "      <td>425.0</td>\n",
       "      <td>1299.0</td>\n",
       "      <td>2018-10-29 13:45:00</td>\n",
       "      <td>2018-10-29 14:00:00</td>\n",
       "      <td>12/12/2018 09:31:05 PM</td>\n",
       "      <td>10.0</td>\n",
       "      <td>13.0</td>\n",
       "      <td>1.0</td>\n",
       "      <td>0.0</td>\n",
       "      <td>0.0</td>\n",
       "      <td>OUT_OF_BOUNDS</td>\n",
       "      <td>OUT_OF_BOUNDS</td>\n",
       "      <td>2018.0</td>\n",
       "      <td>0.0</td>\n",
       "      <td>0.0</td>\n",
       "      <td>0.000</td>\n",
       "      <td>0.000</td>\n",
       "    </tr>\n",
       "    <tr>\n",
       "      <th>128</th>\n",
       "      <td>00039939-bea8-4a05-bccc-6da0b6d851d3</td>\n",
       "      <td>db16a992-42a0-45a2-857a-b7d0eebc755b</td>\n",
       "      <td>scooter</td>\n",
       "      <td>57.0</td>\n",
       "      <td>1.0</td>\n",
       "      <td>2018-10-29 11:45:00</td>\n",
       "      <td>2018-10-29 11:45:00</td>\n",
       "      <td>12/13/2018 03:49:28 PM</td>\n",
       "      <td>10.0</td>\n",
       "      <td>11.0</td>\n",
       "      <td>1.0</td>\n",
       "      <td>0.0</td>\n",
       "      <td>0.0</td>\n",
       "      <td>OUT_OF_BOUNDS</td>\n",
       "      <td>OUT_OF_BOUNDS</td>\n",
       "      <td>2018.0</td>\n",
       "      <td>0.0</td>\n",
       "      <td>0.0</td>\n",
       "      <td>0.000</td>\n",
       "      <td>0.000</td>\n",
       "    </tr>\n",
       "    <tr>\n",
       "      <th>267</th>\n",
       "      <td>00080fda-ef07-4c72-81bb-b331ac087a31</td>\n",
       "      <td>ad1e67ea-ae3b-4f55-b158-32d61c9198cd</td>\n",
       "      <td>scooter</td>\n",
       "      <td>63.0</td>\n",
       "      <td>0.0</td>\n",
       "      <td>2018-10-17 17:45:00</td>\n",
       "      <td>2018-10-17 17:45:00</td>\n",
       "      <td>12/13/2018 03:38:06 PM</td>\n",
       "      <td>10.0</td>\n",
       "      <td>17.0</td>\n",
       "      <td>3.0</td>\n",
       "      <td>0.0</td>\n",
       "      <td>9.0</td>\n",
       "      <td>OUT_OF_BOUNDS</td>\n",
       "      <td>014872</td>\n",
       "      <td>2018.0</td>\n",
       "      <td>NaN</td>\n",
       "      <td>NaN</td>\n",
       "      <td>30.286</td>\n",
       "      <td>-97.741</td>\n",
       "    </tr>\n",
       "    <tr>\n",
       "      <th>453</th>\n",
       "      <td>000e6942-3a96-4384-93af-97ec721c4cc0</td>\n",
       "      <td>8ea6275e-7122-48f2-89c8-b6d93f553204</td>\n",
       "      <td>scooter</td>\n",
       "      <td>408.0</td>\n",
       "      <td>1400.0</td>\n",
       "      <td>2018-11-30 14:00:00</td>\n",
       "      <td>2018-11-30 14:00:00</td>\n",
       "      <td>12/13/2018 03:54:39 PM</td>\n",
       "      <td>11.0</td>\n",
       "      <td>14.0</td>\n",
       "      <td>5.0</td>\n",
       "      <td>0.0</td>\n",
       "      <td>9.0</td>\n",
       "      <td>OUT_OF_BOUNDS</td>\n",
       "      <td>015357</td>\n",
       "      <td>2018.0</td>\n",
       "      <td>NaN</td>\n",
       "      <td>NaN</td>\n",
       "      <td>30.315</td>\n",
       "      <td>-97.734</td>\n",
       "    </tr>\n",
       "    <tr>\n",
       "      <th>588</th>\n",
       "      <td>00126ad5-74ad-4073-98f3-95bc158de3a4</td>\n",
       "      <td>b6e3766e-2166-4ce6-808e-182846f4523f</td>\n",
       "      <td>scooter</td>\n",
       "      <td>582.0</td>\n",
       "      <td>1000.0</td>\n",
       "      <td>2018-10-10 12:45:00</td>\n",
       "      <td>2018-10-10 13:00:00</td>\n",
       "      <td>12/13/2018 03:39:37 PM</td>\n",
       "      <td>10.0</td>\n",
       "      <td>12.0</td>\n",
       "      <td>3.0</td>\n",
       "      <td>0.0</td>\n",
       "      <td>10.0</td>\n",
       "      <td>OUT_OF_BOUNDS</td>\n",
       "      <td>014882</td>\n",
       "      <td>2018.0</td>\n",
       "      <td>NaN</td>\n",
       "      <td>NaN</td>\n",
       "      <td>30.309</td>\n",
       "      <td>-97.742</td>\n",
       "    </tr>\n",
       "    <tr>\n",
       "      <th>616</th>\n",
       "      <td>001313bb-d8a3-4ba7-ba7b-5c79cd2a00d1</td>\n",
       "      <td>add78e92-55ff-421c-a0f0-b2fe66e41f6b</td>\n",
       "      <td>scooter</td>\n",
       "      <td>556.0</td>\n",
       "      <td>580.0</td>\n",
       "      <td>2018-09-30 14:30:00</td>\n",
       "      <td>2018-09-30 14:45:00</td>\n",
       "      <td>12/13/2018 03:52:53 PM</td>\n",
       "      <td>9.0</td>\n",
       "      <td>14.0</td>\n",
       "      <td>0.0</td>\n",
       "      <td>0.0</td>\n",
       "      <td>0.0</td>\n",
       "      <td>OUT_OF_BOUNDS</td>\n",
       "      <td>OUT_OF_BOUNDS</td>\n",
       "      <td>2018.0</td>\n",
       "      <td>NaN</td>\n",
       "      <td>NaN</td>\n",
       "      <td>NaN</td>\n",
       "      <td>NaN</td>\n",
       "    </tr>\n",
       "    <tr>\n",
       "      <th>630</th>\n",
       "      <td>001377ba-2c67-4384-8f0b-edfaaeb8e65a</td>\n",
       "      <td>1d816fcf-d573-48cd-ae68-e6cf364e2432</td>\n",
       "      <td>scooter</td>\n",
       "      <td>5287.0</td>\n",
       "      <td>10000.0</td>\n",
       "      <td>2018-10-14 14:45:00</td>\n",
       "      <td>2018-10-14 16:00:00</td>\n",
       "      <td>12/12/2018 09:11:41 PM</td>\n",
       "      <td>10.0</td>\n",
       "      <td>14.0</td>\n",
       "      <td>0.0</td>\n",
       "      <td>0.0</td>\n",
       "      <td>5.0</td>\n",
       "      <td>OUT_OF_BOUNDS</td>\n",
       "      <td>013442</td>\n",
       "      <td>2018.0</td>\n",
       "      <td>NaN</td>\n",
       "      <td>NaN</td>\n",
       "      <td>30.255</td>\n",
       "      <td>-97.762</td>\n",
       "    </tr>\n",
       "    <tr>\n",
       "      <th>677</th>\n",
       "      <td>0015a86e-446c-4be0-9529-ff9a683cc859</td>\n",
       "      <td>e0ae258e-92d0-433e-bba6-4d8dfef63abf</td>\n",
       "      <td>scooter</td>\n",
       "      <td>923.0</td>\n",
       "      <td>800.0</td>\n",
       "      <td>2018-12-03 08:00:00</td>\n",
       "      <td>2018-12-03 08:15:00</td>\n",
       "      <td>12/13/2018 03:49:05 PM</td>\n",
       "      <td>12.0</td>\n",
       "      <td>8.0</td>\n",
       "      <td>1.0</td>\n",
       "      <td>0.0</td>\n",
       "      <td>9.0</td>\n",
       "      <td>OUT_OF_BOUNDS</td>\n",
       "      <td>015029</td>\n",
       "      <td>2018.0</td>\n",
       "      <td>NaN</td>\n",
       "      <td>NaN</td>\n",
       "      <td>30.283</td>\n",
       "      <td>-97.738</td>\n",
       "    </tr>\n",
       "    <tr>\n",
       "      <th>894</th>\n",
       "      <td>001c5303-4826-4696-bbb4-7399973abf75</td>\n",
       "      <td>94571d86-0acf-4c42-9796-f0e509e15a80</td>\n",
       "      <td>scooter</td>\n",
       "      <td>240.0</td>\n",
       "      <td>200.0</td>\n",
       "      <td>2018-11-07 19:00:00</td>\n",
       "      <td>2018-11-07 19:00:00</td>\n",
       "      <td>12/12/2018 09:31:05 PM</td>\n",
       "      <td>11.0</td>\n",
       "      <td>19.0</td>\n",
       "      <td>3.0</td>\n",
       "      <td>0.0</td>\n",
       "      <td>3.0</td>\n",
       "      <td>OUT_OF_BOUNDS</td>\n",
       "      <td>015807</td>\n",
       "      <td>2018.0</td>\n",
       "      <td>NaN</td>\n",
       "      <td>NaN</td>\n",
       "      <td>30.263</td>\n",
       "      <td>-97.727</td>\n",
       "    </tr>\n",
       "    <tr>\n",
       "      <th>974</th>\n",
       "      <td>001e8570-19c2-4b1f-8e92-f9bb4a6049a7</td>\n",
       "      <td>c97c4f15-95a8-40a2-8ac9-814aa4600923</td>\n",
       "      <td>scooter</td>\n",
       "      <td>1315.0</td>\n",
       "      <td>2300.0</td>\n",
       "      <td>2018-11-11 13:30:00</td>\n",
       "      <td>2018-11-11 13:45:00</td>\n",
       "      <td>12/13/2018 03:39:56 PM</td>\n",
       "      <td>11.0</td>\n",
       "      <td>13.0</td>\n",
       "      <td>0.0</td>\n",
       "      <td>0.0</td>\n",
       "      <td>9.0</td>\n",
       "      <td>OUT_OF_BOUNDS</td>\n",
       "      <td>015023</td>\n",
       "      <td>2018.0</td>\n",
       "      <td>NaN</td>\n",
       "      <td>NaN</td>\n",
       "      <td>30.271</td>\n",
       "      <td>-97.739</td>\n",
       "    </tr>\n",
       "  </tbody>\n",
       "</table>\n",
       "</div>"
      ],
      "text/plain": [
       "                                       id  \\\n",
       "118  00034de2-79b4-44e6-b0a4-cf4a6515e51c   \n",
       "128  00039939-bea8-4a05-bccc-6da0b6d851d3   \n",
       "267  00080fda-ef07-4c72-81bb-b331ac087a31   \n",
       "453  000e6942-3a96-4384-93af-97ec721c4cc0   \n",
       "588  00126ad5-74ad-4073-98f3-95bc158de3a4   \n",
       "616  001313bb-d8a3-4ba7-ba7b-5c79cd2a00d1   \n",
       "630  001377ba-2c67-4384-8f0b-edfaaeb8e65a   \n",
       "677  0015a86e-446c-4be0-9529-ff9a683cc859   \n",
       "894  001c5303-4826-4696-bbb4-7399973abf75   \n",
       "974  001e8570-19c2-4b1f-8e92-f9bb4a6049a7   \n",
       "\n",
       "                                device_id vehicle_type  trip_duration  \\\n",
       "118  722ceae4-82f1-4f4f-93dd-d1de1030de3e      scooter          425.0   \n",
       "128  db16a992-42a0-45a2-857a-b7d0eebc755b      scooter           57.0   \n",
       "267  ad1e67ea-ae3b-4f55-b158-32d61c9198cd      scooter           63.0   \n",
       "453  8ea6275e-7122-48f2-89c8-b6d93f553204      scooter          408.0   \n",
       "588  b6e3766e-2166-4ce6-808e-182846f4523f      scooter          582.0   \n",
       "616  add78e92-55ff-421c-a0f0-b2fe66e41f6b      scooter          556.0   \n",
       "630  1d816fcf-d573-48cd-ae68-e6cf364e2432      scooter         5287.0   \n",
       "677  e0ae258e-92d0-433e-bba6-4d8dfef63abf      scooter          923.0   \n",
       "894  94571d86-0acf-4c42-9796-f0e509e15a80      scooter          240.0   \n",
       "974  c97c4f15-95a8-40a2-8ac9-814aa4600923      scooter         1315.0   \n",
       "\n",
       "     trip_distance          start_time            end_time  \\\n",
       "118         1299.0 2018-10-29 13:45:00 2018-10-29 14:00:00   \n",
       "128            1.0 2018-10-29 11:45:00 2018-10-29 11:45:00   \n",
       "267            0.0 2018-10-17 17:45:00 2018-10-17 17:45:00   \n",
       "453         1400.0 2018-11-30 14:00:00 2018-11-30 14:00:00   \n",
       "588         1000.0 2018-10-10 12:45:00 2018-10-10 13:00:00   \n",
       "616          580.0 2018-09-30 14:30:00 2018-09-30 14:45:00   \n",
       "630        10000.0 2018-10-14 14:45:00 2018-10-14 16:00:00   \n",
       "677          800.0 2018-12-03 08:00:00 2018-12-03 08:15:00   \n",
       "894          200.0 2018-11-07 19:00:00 2018-11-07 19:00:00   \n",
       "974         2300.0 2018-11-11 13:30:00 2018-11-11 13:45:00   \n",
       "\n",
       "              modified_date  month  hour  day_of_week  council_district_start  \\\n",
       "118  12/12/2018 09:31:05 PM   10.0  13.0          1.0                     0.0   \n",
       "128  12/13/2018 03:49:28 PM   10.0  11.0          1.0                     0.0   \n",
       "267  12/13/2018 03:38:06 PM   10.0  17.0          3.0                     0.0   \n",
       "453  12/13/2018 03:54:39 PM   11.0  14.0          5.0                     0.0   \n",
       "588  12/13/2018 03:39:37 PM   10.0  12.0          3.0                     0.0   \n",
       "616  12/13/2018 03:52:53 PM    9.0  14.0          0.0                     0.0   \n",
       "630  12/12/2018 09:11:41 PM   10.0  14.0          0.0                     0.0   \n",
       "677  12/13/2018 03:49:05 PM   12.0   8.0          1.0                     0.0   \n",
       "894  12/12/2018 09:31:05 PM   11.0  19.0          3.0                     0.0   \n",
       "974  12/13/2018 03:39:56 PM   11.0  13.0          0.0                     0.0   \n",
       "\n",
       "     council_district_end origin_cell_id destination_cell_id    year  \\\n",
       "118                   0.0  OUT_OF_BOUNDS       OUT_OF_BOUNDS  2018.0   \n",
       "128                   0.0  OUT_OF_BOUNDS       OUT_OF_BOUNDS  2018.0   \n",
       "267                   9.0  OUT_OF_BOUNDS              014872  2018.0   \n",
       "453                   9.0  OUT_OF_BOUNDS              015357  2018.0   \n",
       "588                  10.0  OUT_OF_BOUNDS              014882  2018.0   \n",
       "616                   0.0  OUT_OF_BOUNDS       OUT_OF_BOUNDS  2018.0   \n",
       "630                   5.0  OUT_OF_BOUNDS              013442  2018.0   \n",
       "677                   9.0  OUT_OF_BOUNDS              015029  2018.0   \n",
       "894                   3.0  OUT_OF_BOUNDS              015807  2018.0   \n",
       "974                   9.0  OUT_OF_BOUNDS              015023  2018.0   \n",
       "\n",
       "     start_latitude  start_longitude  end_latitude  end_longitude  \n",
       "118             0.0              0.0         0.000          0.000  \n",
       "128             0.0              0.0         0.000          0.000  \n",
       "267             NaN              NaN        30.286        -97.741  \n",
       "453             NaN              NaN        30.315        -97.734  \n",
       "588             NaN              NaN        30.309        -97.742  \n",
       "616             NaN              NaN           NaN            NaN  \n",
       "630             NaN              NaN        30.255        -97.762  \n",
       "677             NaN              NaN        30.283        -97.738  \n",
       "894             NaN              NaN        30.263        -97.727  \n",
       "974             NaN              NaN        30.271        -97.739  "
      ]
     },
     "execution_count": 15,
     "metadata": {},
     "output_type": "execute_result"
    }
   ],
   "source": [
    "dockless[dockless.origin_cell_id=='OUT_OF_BOUNDS'][:10]"
   ]
  },
  {
   "cell_type": "markdown",
   "metadata": {},
   "source": [
    "#### It turns out that these are the rows for which start locations or end locations are missing. So, these rows will be useless for any spatial analysis. So, it would be a good idea to drop them."
   ]
  },
  {
   "cell_type": "code",
   "execution_count": 17,
   "metadata": {},
   "outputs": [
    {
     "data": {
      "text/plain": [
       "(2746505, 20)"
      ]
     },
     "execution_count": 17,
     "metadata": {},
     "output_type": "execute_result"
    }
   ],
   "source": [
    "dockless.shape"
   ]
  },
  {
   "cell_type": "code",
   "execution_count": 40,
   "metadata": {},
   "outputs": [],
   "source": [
    "# Removing all rows where either origin cell id or destination cell id is 'OUT_OF_BOUNDS'\n",
    "dockless = dockless.loc[(dockless.origin_cell_id!='OUT_OF_BOUNDS') & (dockless.destination_cell_id!='OUT_OF_BOUNDS')]"
   ]
  },
  {
   "cell_type": "code",
   "execution_count": 41,
   "metadata": {},
   "outputs": [
    {
     "data": {
      "text/plain": [
       "(2695253, 20)"
      ]
     },
     "execution_count": 41,
     "metadata": {},
     "output_type": "execute_result"
    }
   ],
   "source": [
    "# Keeeping track of how many rows we dropped\n",
    "dockless.shape"
   ]
  },
  {
   "cell_type": "markdown",
   "metadata": {},
   "source": [
    "#### There might still be other null, zero and Nan values in the spatial columns so, those rows also need to be dropped."
   ]
  },
  {
   "cell_type": "code",
   "execution_count": 68,
   "metadata": {},
   "outputs": [],
   "source": [
    "dockless.drop(dockless[dockless['start_latitude'].isnull() | dockless['start_latitude']==0 | dockless['start_latitude'].isna()].index,inplace=True)\n",
    "dockless.drop(dockless[dockless['start_longitude'].isnull() | dockless['start_longitude']==0 | dockless['start_longitude'].isna()].index,inplace=True)\n",
    "dockless.drop(dockless[dockless['end_latitude'].isnull() | dockless['end_latitude']==0 | dockless['end_latitude'].isna() ].index,inplace=True)\n",
    "dockless.drop(dockless[dockless['end_longitude'].isnull() | dockless['end_longitude']==0  | dockless['end_longitude'].isna()].index,inplace=True)"
   ]
  },
  {
   "cell_type": "code",
   "execution_count": 69,
   "metadata": {},
   "outputs": [
    {
     "data": {
      "text/plain": [
       "(2688724, 20)"
      ]
     },
     "execution_count": 69,
     "metadata": {},
     "output_type": "execute_result"
    }
   ],
   "source": [
    "# Keeeping track of how many rows we dropped\n",
    "dockless.shape"
   ]
  },
  {
   "cell_type": "code",
   "execution_count": 73,
   "metadata": {},
   "outputs": [
    {
     "data": {
      "text/plain": [
       "array(['scooter', 'bicycle'], dtype=object)"
      ]
     },
     "execution_count": 73,
     "metadata": {},
     "output_type": "execute_result"
    }
   ],
   "source": [
    "dockless.vehicle_type.unique()"
   ]
  },
  {
   "cell_type": "markdown",
   "metadata": {},
   "source": [
    "### Dropping bicycles as we are looking to analyse the patterns of scooters"
   ]
  },
  {
   "cell_type": "code",
   "execution_count": 75,
   "metadata": {},
   "outputs": [],
   "source": [
    "dockless = dockless[dockless.vehicle_type=='scooter']"
   ]
  },
  {
   "cell_type": "code",
   "execution_count": 76,
   "metadata": {},
   "outputs": [
    {
     "data": {
      "text/plain": [
       "(2612879, 20)"
      ]
     },
     "execution_count": 76,
     "metadata": {},
     "output_type": "execute_result"
    }
   ],
   "source": [
    "# Keeeping track of how many rows we dropped\n",
    "dockless.shape"
   ]
  },
  {
   "cell_type": "code",
   "execution_count": 77,
   "metadata": {},
   "outputs": [],
   "source": [
    "# Saving the processed csv\n",
    "dockless.to_csv('Dockless_data_Austin.csv',index=False)"
   ]
  },
  {
   "cell_type": "markdown",
   "metadata": {},
   "source": [
    "### Getting the shape file for the Austin Council Districts"
   ]
  },
  {
   "cell_type": "code",
   "execution_count": 46,
   "metadata": {},
   "outputs": [
    {
     "name": "stdout",
     "output_type": "stream",
     "text": [
      "Downloading shapefile...\n",
      "Done\n"
     ]
    }
   ],
   "source": [
    "url = \"https://data.austintexas.gov/api/geospatial/hdpc-ysmz?method=export&format=Shapefile\"\n",
    "print('Downloading shapefile...')\n",
    "r = requests.get(url)\n",
    "z = zipfile.ZipFile(io.BytesIO(r.content))\n",
    "print(\"Done\")\n",
    "if not os.path.isdir('council_districts'): z.extractall(path='council_districts/') # extract to folder"
   ]
  },
  {
   "cell_type": "code",
   "execution_count": 47,
   "metadata": {},
   "outputs": [
    {
     "name": "stdout",
     "output_type": "stream",
     "text": [
      "['geo_export_a9cbcd82-61df-4e90-b67f-b7649d24806a.shx', 'geo_export_a9cbcd82-61df-4e90-b67f-b7649d24806a.shp', 'geo_export_a9cbcd82-61df-4e90-b67f-b7649d24806a.dbf', 'geo_export_a9cbcd82-61df-4e90-b67f-b7649d24806a.prj']\n"
     ]
    }
   ],
   "source": [
    "filename_council = [f for f in os.listdir('council_districts/') for ending in ['dbf', 'prj', 'shp', 'shx'] if f.endswith(ending)]\n",
    "print(filename_council)"
   ]
  },
  {
   "cell_type": "code",
   "execution_count": 37,
   "metadata": {},
   "outputs": [],
   "source": [
    "dbf, prj, shp, shx = [filename for filename in filename_council]\n",
    "council_districts = gpd.read_file('council_districts/'+shp)"
   ]
  },
  {
   "cell_type": "code",
   "execution_count": 15,
   "metadata": {},
   "outputs": [
    {
     "data": {
      "text/html": [
       "<div>\n",
       "<style scoped>\n",
       "    .dataframe tbody tr th:only-of-type {\n",
       "        vertical-align: middle;\n",
       "    }\n",
       "\n",
       "    .dataframe tbody tr th {\n",
       "        vertical-align: top;\n",
       "    }\n",
       "\n",
       "    .dataframe thead th {\n",
       "        text-align: right;\n",
       "    }\n",
       "</style>\n",
       "<table border=\"1\" class=\"dataframe\">\n",
       "  <thead>\n",
       "    <tr style=\"text-align: right;\">\n",
       "      <th></th>\n",
       "      <th>council_di</th>\n",
       "      <th>created_by</th>\n",
       "      <th>date_creat</th>\n",
       "      <th>time_creat</th>\n",
       "      <th>modified_b</th>\n",
       "      <th>date_modif</th>\n",
       "      <th>time_modif</th>\n",
       "      <th>objectid</th>\n",
       "      <th>shape_area</th>\n",
       "      <th>shape_leng</th>\n",
       "      <th>single_mem</th>\n",
       "      <th>geometry</th>\n",
       "    </tr>\n",
       "  </thead>\n",
       "  <tbody>\n",
       "    <tr>\n",
       "      <th>0</th>\n",
       "      <td>http://www.austintexas.gov/department/district-3</td>\n",
       "      <td>meekss</td>\n",
       "      <td>2018-06-14</td>\n",
       "      <td>11:00:25.000</td>\n",
       "      <td>lockwoodg</td>\n",
       "      <td>2016-10-18</td>\n",
       "      <td>13:41:59.000</td>\n",
       "      <td>1.0</td>\n",
       "      <td>5.027911e+08</td>\n",
       "      <td>153982.266647</td>\n",
       "      <td>400378072.0</td>\n",
       "      <td>(POLYGON ((-97.680452610835 30.267642217703, -...</td>\n",
       "    </tr>\n",
       "    <tr>\n",
       "      <th>1</th>\n",
       "      <td>http://www.austintexas.gov/department/district-4</td>\n",
       "      <td>meekss</td>\n",
       "      <td>2018-06-14</td>\n",
       "      <td>11:00:26.000</td>\n",
       "      <td>lockwoodg</td>\n",
       "      <td>2016-10-18</td>\n",
       "      <td>13:42:05.000</td>\n",
       "      <td>3.0</td>\n",
       "      <td>3.308754e+08</td>\n",
       "      <td>105092.713667</td>\n",
       "      <td>400378084.0</td>\n",
       "      <td>POLYGON ((-97.70834462297 30.392488241669, -97...</td>\n",
       "    </tr>\n",
       "    <tr>\n",
       "      <th>2</th>\n",
       "      <td>http://www.austintexas.gov/department/district-2</td>\n",
       "      <td>meekss</td>\n",
       "      <td>2018-06-14</td>\n",
       "      <td>11:00:26.000</td>\n",
       "      <td>lockwoodg</td>\n",
       "      <td>2016-10-18</td>\n",
       "      <td>13:41:55.000</td>\n",
       "      <td>2.0</td>\n",
       "      <td>1.290120e+09</td>\n",
       "      <td>689873.424949</td>\n",
       "      <td>400378076.0</td>\n",
       "      <td>(POLYGON ((-97.718093991782 30.184857710517, -...</td>\n",
       "    </tr>\n",
       "    <tr>\n",
       "      <th>3</th>\n",
       "      <td>http://www.austintexas.gov/department/district-9</td>\n",
       "      <td>meekss</td>\n",
       "      <td>2018-06-14</td>\n",
       "      <td>11:00:26.000</td>\n",
       "      <td>lockwoodg</td>\n",
       "      <td>2016-10-18</td>\n",
       "      <td>13:42:32.000</td>\n",
       "      <td>4.0</td>\n",
       "      <td>3.482170e+08</td>\n",
       "      <td>135780.245550</td>\n",
       "      <td>400378086.0</td>\n",
       "      <td>POLYGON ((-97.731632625359 30.317929225339, -9...</td>\n",
       "    </tr>\n",
       "    <tr>\n",
       "      <th>4</th>\n",
       "      <td>http://www.austintexas.gov/department/district-5</td>\n",
       "      <td>meekss</td>\n",
       "      <td>2018-06-14</td>\n",
       "      <td>11:00:25.000</td>\n",
       "      <td>meekss</td>\n",
       "      <td>2018-03-30</td>\n",
       "      <td>16:36:17.000</td>\n",
       "      <td>8.0</td>\n",
       "      <td>6.719064e+08</td>\n",
       "      <td>343441.587183</td>\n",
       "      <td>400378068.0</td>\n",
       "      <td>(POLYGON ((-97.79137132583099 30.093084953282,...</td>\n",
       "    </tr>\n",
       "  </tbody>\n",
       "</table>\n",
       "</div>"
      ],
      "text/plain": [
       "                                         council_di created_by  date_creat  \\\n",
       "0  http://www.austintexas.gov/department/district-3     meekss  2018-06-14   \n",
       "1  http://www.austintexas.gov/department/district-4     meekss  2018-06-14   \n",
       "2  http://www.austintexas.gov/department/district-2     meekss  2018-06-14   \n",
       "3  http://www.austintexas.gov/department/district-9     meekss  2018-06-14   \n",
       "4  http://www.austintexas.gov/department/district-5     meekss  2018-06-14   \n",
       "\n",
       "     time_creat modified_b  date_modif    time_modif  objectid    shape_area  \\\n",
       "0  11:00:25.000  lockwoodg  2016-10-18  13:41:59.000       1.0  5.027911e+08   \n",
       "1  11:00:26.000  lockwoodg  2016-10-18  13:42:05.000       3.0  3.308754e+08   \n",
       "2  11:00:26.000  lockwoodg  2016-10-18  13:41:55.000       2.0  1.290120e+09   \n",
       "3  11:00:26.000  lockwoodg  2016-10-18  13:42:32.000       4.0  3.482170e+08   \n",
       "4  11:00:25.000     meekss  2018-03-30  16:36:17.000       8.0  6.719064e+08   \n",
       "\n",
       "      shape_leng   single_mem  \\\n",
       "0  153982.266647  400378072.0   \n",
       "1  105092.713667  400378084.0   \n",
       "2  689873.424949  400378076.0   \n",
       "3  135780.245550  400378086.0   \n",
       "4  343441.587183  400378068.0   \n",
       "\n",
       "                                            geometry  \n",
       "0  (POLYGON ((-97.680452610835 30.267642217703, -...  \n",
       "1  POLYGON ((-97.70834462297 30.392488241669, -97...  \n",
       "2  (POLYGON ((-97.718093991782 30.184857710517, -...  \n",
       "3  POLYGON ((-97.731632625359 30.317929225339, -9...  \n",
       "4  (POLYGON ((-97.79137132583099 30.093084953282,...  "
      ]
     },
     "execution_count": 15,
     "metadata": {},
     "output_type": "execute_result"
    }
   ],
   "source": [
    "council_districts.head()"
   ]
  },
  {
   "cell_type": "markdown",
   "metadata": {},
   "source": [
    "### Getting the shape file for the Austin Census Tracts "
   ]
  },
  {
   "cell_type": "code",
   "execution_count": 7,
   "metadata": {},
   "outputs": [],
   "source": [
    "import requests, zipfile, io\n",
    "\n",
    "census_url = 'https://data.austintexas.gov/download/e228-ig6a/application%2Fzip'\n",
    "r = requests.get(census_url)\n",
    "z = zipfile.ZipFile(io.BytesIO(r.content))\n",
    "z.extractall('CT_Austin/')\n",
    "# filename = [y for y in sorted(z.namelist()) if y.endswith('shp')] "
   ]
  },
  {
   "cell_type": "code",
   "execution_count": 20,
   "metadata": {},
   "outputs": [],
   "source": [
    "filenames = [f for f in os.listdir('CT_Austin/') for ending in ['dbf', 'prj', 'shp', 'shx'] if f.endswith(ending)]"
   ]
  },
  {
   "cell_type": "code",
   "execution_count": 21,
   "metadata": {},
   "outputs": [],
   "source": [
    "dbf, prj, shp, shx = [filename for filename in filenames]\n",
    "ct = gpd.read_file('CT_Austin/'+shp)"
   ]
  },
  {
   "cell_type": "code",
   "execution_count": 22,
   "metadata": {},
   "outputs": [
    {
     "data": {
      "text/html": [
       "<div>\n",
       "<style scoped>\n",
       "    .dataframe tbody tr th:only-of-type {\n",
       "        vertical-align: middle;\n",
       "    }\n",
       "\n",
       "    .dataframe tbody tr th {\n",
       "        vertical-align: top;\n",
       "    }\n",
       "\n",
       "    .dataframe thead th {\n",
       "        text-align: right;\n",
       "    }\n",
       "</style>\n",
       "<table border=\"1\" class=\"dataframe\">\n",
       "  <thead>\n",
       "    <tr style=\"text-align: right;\">\n",
       "      <th></th>\n",
       "      <th>TRACTCE10</th>\n",
       "      <th>SUM_totpop</th>\n",
       "      <th>SUM_white</th>\n",
       "      <th>SUM_black</th>\n",
       "      <th>SUM_hispan</th>\n",
       "      <th>SUM_asian</th>\n",
       "      <th>SUM_other</th>\n",
       "      <th>SUM_multi</th>\n",
       "      <th>SUM_hu_tot</th>\n",
       "      <th>SUM_hu_occ</th>\n",
       "      <th>...</th>\n",
       "      <th>SUM_AGE651</th>\n",
       "      <th>SUM_AGE_65</th>\n",
       "      <th>SUM_AGE75_</th>\n",
       "      <th>SUM_AGE80_</th>\n",
       "      <th>SUM_AGE_85</th>\n",
       "      <th>SUM_FAMSWC</th>\n",
       "      <th>SUM_POP_IN</th>\n",
       "      <th>SUM_FAMILI</th>\n",
       "      <th>SUM_NONFAM</th>\n",
       "      <th>geometry</th>\n",
       "    </tr>\n",
       "  </thead>\n",
       "  <tbody>\n",
       "    <tr>\n",
       "      <th>0</th>\n",
       "      <td>000101</td>\n",
       "      <td>3611.0</td>\n",
       "      <td>3130.0</td>\n",
       "      <td>39.0</td>\n",
       "      <td>276.0</td>\n",
       "      <td>90.0</td>\n",
       "      <td>9.0</td>\n",
       "      <td>67.0</td>\n",
       "      <td>2076.0</td>\n",
       "      <td>1815.0</td>\n",
       "      <td>...</td>\n",
       "      <td>38.0</td>\n",
       "      <td>151.0</td>\n",
       "      <td>79.0</td>\n",
       "      <td>103.0</td>\n",
       "      <td>303.0</td>\n",
       "      <td>354.0</td>\n",
       "      <td>77.0</td>\n",
       "      <td>805.0</td>\n",
       "      <td>1010.0</td>\n",
       "      <td>POLYGON ((3110996.149334418 10094866.83662638,...</td>\n",
       "    </tr>\n",
       "    <tr>\n",
       "      <th>1</th>\n",
       "      <td>000102</td>\n",
       "      <td>2552.0</td>\n",
       "      <td>2311.0</td>\n",
       "      <td>23.0</td>\n",
       "      <td>150.0</td>\n",
       "      <td>42.0</td>\n",
       "      <td>3.0</td>\n",
       "      <td>23.0</td>\n",
       "      <td>1153.0</td>\n",
       "      <td>1081.0</td>\n",
       "      <td>...</td>\n",
       "      <td>70.0</td>\n",
       "      <td>253.0</td>\n",
       "      <td>77.0</td>\n",
       "      <td>66.0</td>\n",
       "      <td>91.0</td>\n",
       "      <td>299.0</td>\n",
       "      <td>18.0</td>\n",
       "      <td>735.0</td>\n",
       "      <td>346.0</td>\n",
       "      <td>POLYGON ((3108183.235349492 10097092.04712778,...</td>\n",
       "    </tr>\n",
       "    <tr>\n",
       "      <th>2</th>\n",
       "      <td>000203</td>\n",
       "      <td>1546.0</td>\n",
       "      <td>1073.0</td>\n",
       "      <td>87.0</td>\n",
       "      <td>213.0</td>\n",
       "      <td>143.0</td>\n",
       "      <td>5.0</td>\n",
       "      <td>25.0</td>\n",
       "      <td>817.0</td>\n",
       "      <td>735.0</td>\n",
       "      <td>...</td>\n",
       "      <td>8.0</td>\n",
       "      <td>25.0</td>\n",
       "      <td>6.0</td>\n",
       "      <td>6.0</td>\n",
       "      <td>2.0</td>\n",
       "      <td>32.0</td>\n",
       "      <td>281.0</td>\n",
       "      <td>122.0</td>\n",
       "      <td>613.0</td>\n",
       "      <td>POLYGON ((3117475.629412891 10088913.11716985,...</td>\n",
       "    </tr>\n",
       "    <tr>\n",
       "      <th>3</th>\n",
       "      <td>000204</td>\n",
       "      <td>3009.0</td>\n",
       "      <td>2396.0</td>\n",
       "      <td>43.0</td>\n",
       "      <td>323.0</td>\n",
       "      <td>161.0</td>\n",
       "      <td>8.0</td>\n",
       "      <td>78.0</td>\n",
       "      <td>1750.0</td>\n",
       "      <td>1596.0</td>\n",
       "      <td>...</td>\n",
       "      <td>21.0</td>\n",
       "      <td>80.0</td>\n",
       "      <td>27.0</td>\n",
       "      <td>20.0</td>\n",
       "      <td>26.0</td>\n",
       "      <td>234.0</td>\n",
       "      <td>56.0</td>\n",
       "      <td>495.0</td>\n",
       "      <td>1101.0</td>\n",
       "      <td>POLYGON ((3114760.420262146 10081981.02697965,...</td>\n",
       "    </tr>\n",
       "    <tr>\n",
       "      <th>4</th>\n",
       "      <td>000205</td>\n",
       "      <td>3394.0</td>\n",
       "      <td>2333.0</td>\n",
       "      <td>110.0</td>\n",
       "      <td>676.0</td>\n",
       "      <td>162.0</td>\n",
       "      <td>24.0</td>\n",
       "      <td>89.0</td>\n",
       "      <td>2153.0</td>\n",
       "      <td>1996.0</td>\n",
       "      <td>...</td>\n",
       "      <td>35.0</td>\n",
       "      <td>95.0</td>\n",
       "      <td>30.0</td>\n",
       "      <td>28.0</td>\n",
       "      <td>21.0</td>\n",
       "      <td>212.0</td>\n",
       "      <td>0.0</td>\n",
       "      <td>557.0</td>\n",
       "      <td>1439.0</td>\n",
       "      <td>POLYGON ((3118490.457187081 10090915.15399349,...</td>\n",
       "    </tr>\n",
       "  </tbody>\n",
       "</table>\n",
       "<p>5 rows × 42 columns</p>\n",
       "</div>"
      ],
      "text/plain": [
       "  TRACTCE10  SUM_totpop  SUM_white  SUM_black  SUM_hispan  SUM_asian  \\\n",
       "0    000101      3611.0     3130.0       39.0       276.0       90.0   \n",
       "1    000102      2552.0     2311.0       23.0       150.0       42.0   \n",
       "2    000203      1546.0     1073.0       87.0       213.0      143.0   \n",
       "3    000204      3009.0     2396.0       43.0       323.0      161.0   \n",
       "4    000205      3394.0     2333.0      110.0       676.0      162.0   \n",
       "\n",
       "   SUM_other  SUM_multi  SUM_hu_tot  SUM_hu_occ  ...  SUM_AGE651  SUM_AGE_65  \\\n",
       "0        9.0       67.0      2076.0      1815.0  ...        38.0       151.0   \n",
       "1        3.0       23.0      1153.0      1081.0  ...        70.0       253.0   \n",
       "2        5.0       25.0       817.0       735.0  ...         8.0        25.0   \n",
       "3        8.0       78.0      1750.0      1596.0  ...        21.0        80.0   \n",
       "4       24.0       89.0      2153.0      1996.0  ...        35.0        95.0   \n",
       "\n",
       "   SUM_AGE75_  SUM_AGE80_  SUM_AGE_85  SUM_FAMSWC  SUM_POP_IN  SUM_FAMILI  \\\n",
       "0        79.0       103.0       303.0       354.0        77.0       805.0   \n",
       "1        77.0        66.0        91.0       299.0        18.0       735.0   \n",
       "2         6.0         6.0         2.0        32.0       281.0       122.0   \n",
       "3        27.0        20.0        26.0       234.0        56.0       495.0   \n",
       "4        30.0        28.0        21.0       212.0         0.0       557.0   \n",
       "\n",
       "   SUM_NONFAM                                           geometry  \n",
       "0      1010.0  POLYGON ((3110996.149334418 10094866.83662638,...  \n",
       "1       346.0  POLYGON ((3108183.235349492 10097092.04712778,...  \n",
       "2       613.0  POLYGON ((3117475.629412891 10088913.11716985,...  \n",
       "3      1101.0  POLYGON ((3114760.420262146 10081981.02697965,...  \n",
       "4      1439.0  POLYGON ((3118490.457187081 10090915.15399349,...  \n",
       "\n",
       "[5 rows x 42 columns]"
      ]
     },
     "execution_count": 22,
     "metadata": {},
     "output_type": "execute_result"
    }
   ],
   "source": [
    "ct.head()"
   ]
  },
  {
   "cell_type": "code",
   "execution_count": null,
   "metadata": {},
   "outputs": [],
   "source": []
  }
 ],
 "metadata": {
  "kernelspec": {
   "display_name": "nishi",
   "language": "python",
   "name": "nishi"
  },
  "language_info": {
   "codemirror_mode": {
    "name": "ipython",
    "version": 2
   },
   "file_extension": ".py",
   "mimetype": "text/x-python",
   "name": "python",
   "nbconvert_exporter": "python",
   "pygments_lexer": "ipython2",
   "version": "2.7.16"
  }
 },
 "nbformat": 4,
 "nbformat_minor": 2
}
