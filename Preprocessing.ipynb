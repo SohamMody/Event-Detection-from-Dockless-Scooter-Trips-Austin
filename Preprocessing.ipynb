{
 "cells": [
  {
   "cell_type": "code",
   "execution_count": 37,
   "metadata": {},
   "outputs": [],
   "source": [
    "import numpy as np\n",
    "import pandas as pd\n",
    "pd.set_option('display.max_columns', 50)"
   ]
  },
  {
   "cell_type": "markdown",
   "metadata": {},
   "source": [
    "Link to open dataset which does not have lat-longs."
   ]
  },
  {
   "cell_type": "code",
   "execution_count": 8,
   "metadata": {},
   "outputs": [],
   "source": [
    "# test = pd.read_csv('https://data.austintexas.gov/api/views/7d8e-dm7r/rows.csv?accessType=DOWNLOAD')"
   ]
  },
  {
   "cell_type": "code",
   "execution_count": 4,
   "metadata": {},
   "outputs": [
    {
     "name": "stderr",
     "output_type": "stream",
     "text": [
      "/anaconda3/lib/python3.7/site-packages/IPython/core/interactiveshell.py:3020: DtypeWarning: Columns (13) have mixed types. Specify dtype option on import or set low_memory=False.\n",
      "  interactivity=interactivity, compiler=compiler, result=result)\n"
     ]
    }
   ],
   "source": [
    "# Ensuring that the pandas parser interprets dates as dates\n",
    "dockless = pd.read_csv('https://s3.amazonaws.com/sameera-bucket-1/dockless_mobility/raw_data/Austin_Dockless_Vehicle_Trips.csv'\\\n",
    "                       ,infer_datetime_format=True,parse_dates=['Start Time','End Time'],encoding='ascii')"
   ]
  },
  {
   "cell_type": "code",
   "execution_count": 6,
   "metadata": {},
   "outputs": [],
   "source": [
    "# Fixing the names of the columns\n",
    "dockless.columns = dockless.columns.str.strip().str.lower().str.replace(' ', '_').str.replace('(', '').str.replace(')', '')"
   ]
  },
  {
   "cell_type": "code",
   "execution_count": 12,
   "metadata": {},
   "outputs": [
    {
     "name": "stdout",
     "output_type": "stream",
     "text": [
      "<class 'pandas.core.frame.DataFrame'>\n",
      "RangeIndex: 2746505 entries, 0 to 2746504\n",
      "Data columns (total 20 columns):\n",
      "id                        object\n",
      "device_id                 object\n",
      "vehicle_type              object\n",
      "trip_duration             float64\n",
      "trip_distance             float64\n",
      "start_time                datetime64[ns]\n",
      "end_time                  datetime64[ns]\n",
      "modified_date             object\n",
      "month                     float64\n",
      "hour                      float64\n",
      "day_of_week               float64\n",
      "council_district_start    float64\n",
      "council_district_end      float64\n",
      "origin_cell_id            object\n",
      "destination_cell_id       object\n",
      "year                      float64\n",
      "start_latitude            float64\n",
      "start_longitude           float64\n",
      "end_latitude              float64\n",
      "end_longitude             float64\n",
      "dtypes: datetime64[ns](2), float64(12), object(6)\n",
      "memory usage: 419.1+ MB\n"
     ]
    }
   ],
   "source": [
    "dockless.info()"
   ]
  },
  {
   "cell_type": "code",
   "execution_count": 20,
   "metadata": {},
   "outputs": [
    {
     "data": {
      "text/plain": [
       "014706           60248\n",
       "014707           58180\n",
       "014864           56408\n",
       "014705           52553\n",
       "015186           46612\n",
       "015019           42919\n",
       "014865           42406\n",
       "014863           42273\n",
       "014391           41524\n",
       "015029           38675\n",
       "014715           38111\n",
       "OUT_OF_BOUNDS    37798\n",
       "014873           37255\n",
       "015021           34557\n",
       "014549           32671\n",
       "Name: origin_cell_id, dtype: int64"
      ]
     },
     "execution_count": 20,
     "metadata": {},
     "output_type": "execute_result"
    }
   ],
   "source": [
    "dockless.origin_cell_id.value_counts()[:15]"
   ]
  },
  {
   "cell_type": "markdown",
   "metadata": {},
   "source": [
    "#### Origin cell id has 'Out_of_bounds' values in many cases so; looking into that"
   ]
  },
  {
   "cell_type": "code",
   "execution_count": 15,
   "metadata": {},
   "outputs": [
    {
     "data": {
      "text/html": [
       "<div>\n",
       "<style scoped>\n",
       "    .dataframe tbody tr th:only-of-type {\n",
       "        vertical-align: middle;\n",
       "    }\n",
       "\n",
       "    .dataframe tbody tr th {\n",
       "        vertical-align: top;\n",
       "    }\n",
       "\n",
       "    .dataframe thead th {\n",
       "        text-align: right;\n",
       "    }\n",
       "</style>\n",
       "<table border=\"1\" class=\"dataframe\">\n",
       "  <thead>\n",
       "    <tr style=\"text-align: right;\">\n",
       "      <th></th>\n",
       "      <th>id</th>\n",
       "      <th>device_id</th>\n",
       "      <th>vehicle_type</th>\n",
       "      <th>trip_duration</th>\n",
       "      <th>trip_distance</th>\n",
       "      <th>start_time</th>\n",
       "      <th>end_time</th>\n",
       "      <th>modified_date</th>\n",
       "      <th>month</th>\n",
       "      <th>hour</th>\n",
       "      <th>day_of_week</th>\n",
       "      <th>council_district_start</th>\n",
       "      <th>council_district_end</th>\n",
       "      <th>origin_cell_id</th>\n",
       "      <th>destination_cell_id</th>\n",
       "      <th>year</th>\n",
       "      <th>start_latitude</th>\n",
       "      <th>start_longitude</th>\n",
       "      <th>end_latitude</th>\n",
       "      <th>end_longitude</th>\n",
       "    </tr>\n",
       "  </thead>\n",
       "  <tbody>\n",
       "    <tr>\n",
       "      <th>118</th>\n",
       "      <td>00034de2-79b4-44e6-b0a4-cf4a6515e51c</td>\n",
       "      <td>722ceae4-82f1-4f4f-93dd-d1de1030de3e</td>\n",
       "      <td>scooter</td>\n",
       "      <td>425.0</td>\n",
       "      <td>1299.0</td>\n",
       "      <td>2018-10-29 13:45:00</td>\n",
       "      <td>2018-10-29 14:00:00</td>\n",
       "      <td>12/12/2018 09:31:05 PM</td>\n",
       "      <td>10.0</td>\n",
       "      <td>13.0</td>\n",
       "      <td>1.0</td>\n",
       "      <td>0.0</td>\n",
       "      <td>0.0</td>\n",
       "      <td>OUT_OF_BOUNDS</td>\n",
       "      <td>OUT_OF_BOUNDS</td>\n",
       "      <td>2018.0</td>\n",
       "      <td>0.0</td>\n",
       "      <td>0.0</td>\n",
       "      <td>0.000</td>\n",
       "      <td>0.000</td>\n",
       "    </tr>\n",
       "    <tr>\n",
       "      <th>128</th>\n",
       "      <td>00039939-bea8-4a05-bccc-6da0b6d851d3</td>\n",
       "      <td>db16a992-42a0-45a2-857a-b7d0eebc755b</td>\n",
       "      <td>scooter</td>\n",
       "      <td>57.0</td>\n",
       "      <td>1.0</td>\n",
       "      <td>2018-10-29 11:45:00</td>\n",
       "      <td>2018-10-29 11:45:00</td>\n",
       "      <td>12/13/2018 03:49:28 PM</td>\n",
       "      <td>10.0</td>\n",
       "      <td>11.0</td>\n",
       "      <td>1.0</td>\n",
       "      <td>0.0</td>\n",
       "      <td>0.0</td>\n",
       "      <td>OUT_OF_BOUNDS</td>\n",
       "      <td>OUT_OF_BOUNDS</td>\n",
       "      <td>2018.0</td>\n",
       "      <td>0.0</td>\n",
       "      <td>0.0</td>\n",
       "      <td>0.000</td>\n",
       "      <td>0.000</td>\n",
       "    </tr>\n",
       "    <tr>\n",
       "      <th>267</th>\n",
       "      <td>00080fda-ef07-4c72-81bb-b331ac087a31</td>\n",
       "      <td>ad1e67ea-ae3b-4f55-b158-32d61c9198cd</td>\n",
       "      <td>scooter</td>\n",
       "      <td>63.0</td>\n",
       "      <td>0.0</td>\n",
       "      <td>2018-10-17 17:45:00</td>\n",
       "      <td>2018-10-17 17:45:00</td>\n",
       "      <td>12/13/2018 03:38:06 PM</td>\n",
       "      <td>10.0</td>\n",
       "      <td>17.0</td>\n",
       "      <td>3.0</td>\n",
       "      <td>0.0</td>\n",
       "      <td>9.0</td>\n",
       "      <td>OUT_OF_BOUNDS</td>\n",
       "      <td>014872</td>\n",
       "      <td>2018.0</td>\n",
       "      <td>NaN</td>\n",
       "      <td>NaN</td>\n",
       "      <td>30.286</td>\n",
       "      <td>-97.741</td>\n",
       "    </tr>\n",
       "    <tr>\n",
       "      <th>453</th>\n",
       "      <td>000e6942-3a96-4384-93af-97ec721c4cc0</td>\n",
       "      <td>8ea6275e-7122-48f2-89c8-b6d93f553204</td>\n",
       "      <td>scooter</td>\n",
       "      <td>408.0</td>\n",
       "      <td>1400.0</td>\n",
       "      <td>2018-11-30 14:00:00</td>\n",
       "      <td>2018-11-30 14:00:00</td>\n",
       "      <td>12/13/2018 03:54:39 PM</td>\n",
       "      <td>11.0</td>\n",
       "      <td>14.0</td>\n",
       "      <td>5.0</td>\n",
       "      <td>0.0</td>\n",
       "      <td>9.0</td>\n",
       "      <td>OUT_OF_BOUNDS</td>\n",
       "      <td>015357</td>\n",
       "      <td>2018.0</td>\n",
       "      <td>NaN</td>\n",
       "      <td>NaN</td>\n",
       "      <td>30.315</td>\n",
       "      <td>-97.734</td>\n",
       "    </tr>\n",
       "    <tr>\n",
       "      <th>588</th>\n",
       "      <td>00126ad5-74ad-4073-98f3-95bc158de3a4</td>\n",
       "      <td>b6e3766e-2166-4ce6-808e-182846f4523f</td>\n",
       "      <td>scooter</td>\n",
       "      <td>582.0</td>\n",
       "      <td>1000.0</td>\n",
       "      <td>2018-10-10 12:45:00</td>\n",
       "      <td>2018-10-10 13:00:00</td>\n",
       "      <td>12/13/2018 03:39:37 PM</td>\n",
       "      <td>10.0</td>\n",
       "      <td>12.0</td>\n",
       "      <td>3.0</td>\n",
       "      <td>0.0</td>\n",
       "      <td>10.0</td>\n",
       "      <td>OUT_OF_BOUNDS</td>\n",
       "      <td>014882</td>\n",
       "      <td>2018.0</td>\n",
       "      <td>NaN</td>\n",
       "      <td>NaN</td>\n",
       "      <td>30.309</td>\n",
       "      <td>-97.742</td>\n",
       "    </tr>\n",
       "    <tr>\n",
       "      <th>616</th>\n",
       "      <td>001313bb-d8a3-4ba7-ba7b-5c79cd2a00d1</td>\n",
       "      <td>add78e92-55ff-421c-a0f0-b2fe66e41f6b</td>\n",
       "      <td>scooter</td>\n",
       "      <td>556.0</td>\n",
       "      <td>580.0</td>\n",
       "      <td>2018-09-30 14:30:00</td>\n",
       "      <td>2018-09-30 14:45:00</td>\n",
       "      <td>12/13/2018 03:52:53 PM</td>\n",
       "      <td>9.0</td>\n",
       "      <td>14.0</td>\n",
       "      <td>0.0</td>\n",
       "      <td>0.0</td>\n",
       "      <td>0.0</td>\n",
       "      <td>OUT_OF_BOUNDS</td>\n",
       "      <td>OUT_OF_BOUNDS</td>\n",
       "      <td>2018.0</td>\n",
       "      <td>NaN</td>\n",
       "      <td>NaN</td>\n",
       "      <td>NaN</td>\n",
       "      <td>NaN</td>\n",
       "    </tr>\n",
       "    <tr>\n",
       "      <th>630</th>\n",
       "      <td>001377ba-2c67-4384-8f0b-edfaaeb8e65a</td>\n",
       "      <td>1d816fcf-d573-48cd-ae68-e6cf364e2432</td>\n",
       "      <td>scooter</td>\n",
       "      <td>5287.0</td>\n",
       "      <td>10000.0</td>\n",
       "      <td>2018-10-14 14:45:00</td>\n",
       "      <td>2018-10-14 16:00:00</td>\n",
       "      <td>12/12/2018 09:11:41 PM</td>\n",
       "      <td>10.0</td>\n",
       "      <td>14.0</td>\n",
       "      <td>0.0</td>\n",
       "      <td>0.0</td>\n",
       "      <td>5.0</td>\n",
       "      <td>OUT_OF_BOUNDS</td>\n",
       "      <td>013442</td>\n",
       "      <td>2018.0</td>\n",
       "      <td>NaN</td>\n",
       "      <td>NaN</td>\n",
       "      <td>30.255</td>\n",
       "      <td>-97.762</td>\n",
       "    </tr>\n",
       "    <tr>\n",
       "      <th>677</th>\n",
       "      <td>0015a86e-446c-4be0-9529-ff9a683cc859</td>\n",
       "      <td>e0ae258e-92d0-433e-bba6-4d8dfef63abf</td>\n",
       "      <td>scooter</td>\n",
       "      <td>923.0</td>\n",
       "      <td>800.0</td>\n",
       "      <td>2018-12-03 08:00:00</td>\n",
       "      <td>2018-12-03 08:15:00</td>\n",
       "      <td>12/13/2018 03:49:05 PM</td>\n",
       "      <td>12.0</td>\n",
       "      <td>8.0</td>\n",
       "      <td>1.0</td>\n",
       "      <td>0.0</td>\n",
       "      <td>9.0</td>\n",
       "      <td>OUT_OF_BOUNDS</td>\n",
       "      <td>015029</td>\n",
       "      <td>2018.0</td>\n",
       "      <td>NaN</td>\n",
       "      <td>NaN</td>\n",
       "      <td>30.283</td>\n",
       "      <td>-97.738</td>\n",
       "    </tr>\n",
       "    <tr>\n",
       "      <th>894</th>\n",
       "      <td>001c5303-4826-4696-bbb4-7399973abf75</td>\n",
       "      <td>94571d86-0acf-4c42-9796-f0e509e15a80</td>\n",
       "      <td>scooter</td>\n",
       "      <td>240.0</td>\n",
       "      <td>200.0</td>\n",
       "      <td>2018-11-07 19:00:00</td>\n",
       "      <td>2018-11-07 19:00:00</td>\n",
       "      <td>12/12/2018 09:31:05 PM</td>\n",
       "      <td>11.0</td>\n",
       "      <td>19.0</td>\n",
       "      <td>3.0</td>\n",
       "      <td>0.0</td>\n",
       "      <td>3.0</td>\n",
       "      <td>OUT_OF_BOUNDS</td>\n",
       "      <td>015807</td>\n",
       "      <td>2018.0</td>\n",
       "      <td>NaN</td>\n",
       "      <td>NaN</td>\n",
       "      <td>30.263</td>\n",
       "      <td>-97.727</td>\n",
       "    </tr>\n",
       "    <tr>\n",
       "      <th>974</th>\n",
       "      <td>001e8570-19c2-4b1f-8e92-f9bb4a6049a7</td>\n",
       "      <td>c97c4f15-95a8-40a2-8ac9-814aa4600923</td>\n",
       "      <td>scooter</td>\n",
       "      <td>1315.0</td>\n",
       "      <td>2300.0</td>\n",
       "      <td>2018-11-11 13:30:00</td>\n",
       "      <td>2018-11-11 13:45:00</td>\n",
       "      <td>12/13/2018 03:39:56 PM</td>\n",
       "      <td>11.0</td>\n",
       "      <td>13.0</td>\n",
       "      <td>0.0</td>\n",
       "      <td>0.0</td>\n",
       "      <td>9.0</td>\n",
       "      <td>OUT_OF_BOUNDS</td>\n",
       "      <td>015023</td>\n",
       "      <td>2018.0</td>\n",
       "      <td>NaN</td>\n",
       "      <td>NaN</td>\n",
       "      <td>30.271</td>\n",
       "      <td>-97.739</td>\n",
       "    </tr>\n",
       "  </tbody>\n",
       "</table>\n",
       "</div>"
      ],
      "text/plain": [
       "                                       id  \\\n",
       "118  00034de2-79b4-44e6-b0a4-cf4a6515e51c   \n",
       "128  00039939-bea8-4a05-bccc-6da0b6d851d3   \n",
       "267  00080fda-ef07-4c72-81bb-b331ac087a31   \n",
       "453  000e6942-3a96-4384-93af-97ec721c4cc0   \n",
       "588  00126ad5-74ad-4073-98f3-95bc158de3a4   \n",
       "616  001313bb-d8a3-4ba7-ba7b-5c79cd2a00d1   \n",
       "630  001377ba-2c67-4384-8f0b-edfaaeb8e65a   \n",
       "677  0015a86e-446c-4be0-9529-ff9a683cc859   \n",
       "894  001c5303-4826-4696-bbb4-7399973abf75   \n",
       "974  001e8570-19c2-4b1f-8e92-f9bb4a6049a7   \n",
       "\n",
       "                                device_id vehicle_type  trip_duration  \\\n",
       "118  722ceae4-82f1-4f4f-93dd-d1de1030de3e      scooter          425.0   \n",
       "128  db16a992-42a0-45a2-857a-b7d0eebc755b      scooter           57.0   \n",
       "267  ad1e67ea-ae3b-4f55-b158-32d61c9198cd      scooter           63.0   \n",
       "453  8ea6275e-7122-48f2-89c8-b6d93f553204      scooter          408.0   \n",
       "588  b6e3766e-2166-4ce6-808e-182846f4523f      scooter          582.0   \n",
       "616  add78e92-55ff-421c-a0f0-b2fe66e41f6b      scooter          556.0   \n",
       "630  1d816fcf-d573-48cd-ae68-e6cf364e2432      scooter         5287.0   \n",
       "677  e0ae258e-92d0-433e-bba6-4d8dfef63abf      scooter          923.0   \n",
       "894  94571d86-0acf-4c42-9796-f0e509e15a80      scooter          240.0   \n",
       "974  c97c4f15-95a8-40a2-8ac9-814aa4600923      scooter         1315.0   \n",
       "\n",
       "     trip_distance          start_time            end_time  \\\n",
       "118         1299.0 2018-10-29 13:45:00 2018-10-29 14:00:00   \n",
       "128            1.0 2018-10-29 11:45:00 2018-10-29 11:45:00   \n",
       "267            0.0 2018-10-17 17:45:00 2018-10-17 17:45:00   \n",
       "453         1400.0 2018-11-30 14:00:00 2018-11-30 14:00:00   \n",
       "588         1000.0 2018-10-10 12:45:00 2018-10-10 13:00:00   \n",
       "616          580.0 2018-09-30 14:30:00 2018-09-30 14:45:00   \n",
       "630        10000.0 2018-10-14 14:45:00 2018-10-14 16:00:00   \n",
       "677          800.0 2018-12-03 08:00:00 2018-12-03 08:15:00   \n",
       "894          200.0 2018-11-07 19:00:00 2018-11-07 19:00:00   \n",
       "974         2300.0 2018-11-11 13:30:00 2018-11-11 13:45:00   \n",
       "\n",
       "              modified_date  month  hour  day_of_week  council_district_start  \\\n",
       "118  12/12/2018 09:31:05 PM   10.0  13.0          1.0                     0.0   \n",
       "128  12/13/2018 03:49:28 PM   10.0  11.0          1.0                     0.0   \n",
       "267  12/13/2018 03:38:06 PM   10.0  17.0          3.0                     0.0   \n",
       "453  12/13/2018 03:54:39 PM   11.0  14.0          5.0                     0.0   \n",
       "588  12/13/2018 03:39:37 PM   10.0  12.0          3.0                     0.0   \n",
       "616  12/13/2018 03:52:53 PM    9.0  14.0          0.0                     0.0   \n",
       "630  12/12/2018 09:11:41 PM   10.0  14.0          0.0                     0.0   \n",
       "677  12/13/2018 03:49:05 PM   12.0   8.0          1.0                     0.0   \n",
       "894  12/12/2018 09:31:05 PM   11.0  19.0          3.0                     0.0   \n",
       "974  12/13/2018 03:39:56 PM   11.0  13.0          0.0                     0.0   \n",
       "\n",
       "     council_district_end origin_cell_id destination_cell_id    year  \\\n",
       "118                   0.0  OUT_OF_BOUNDS       OUT_OF_BOUNDS  2018.0   \n",
       "128                   0.0  OUT_OF_BOUNDS       OUT_OF_BOUNDS  2018.0   \n",
       "267                   9.0  OUT_OF_BOUNDS              014872  2018.0   \n",
       "453                   9.0  OUT_OF_BOUNDS              015357  2018.0   \n",
       "588                  10.0  OUT_OF_BOUNDS              014882  2018.0   \n",
       "616                   0.0  OUT_OF_BOUNDS       OUT_OF_BOUNDS  2018.0   \n",
       "630                   5.0  OUT_OF_BOUNDS              013442  2018.0   \n",
       "677                   9.0  OUT_OF_BOUNDS              015029  2018.0   \n",
       "894                   3.0  OUT_OF_BOUNDS              015807  2018.0   \n",
       "974                   9.0  OUT_OF_BOUNDS              015023  2018.0   \n",
       "\n",
       "     start_latitude  start_longitude  end_latitude  end_longitude  \n",
       "118             0.0              0.0         0.000          0.000  \n",
       "128             0.0              0.0         0.000          0.000  \n",
       "267             NaN              NaN        30.286        -97.741  \n",
       "453             NaN              NaN        30.315        -97.734  \n",
       "588             NaN              NaN        30.309        -97.742  \n",
       "616             NaN              NaN           NaN            NaN  \n",
       "630             NaN              NaN        30.255        -97.762  \n",
       "677             NaN              NaN        30.283        -97.738  \n",
       "894             NaN              NaN        30.263        -97.727  \n",
       "974             NaN              NaN        30.271        -97.739  "
      ]
     },
     "execution_count": 15,
     "metadata": {},
     "output_type": "execute_result"
    }
   ],
   "source": [
    "dockless[dockless.origin_cell_id=='OUT_OF_BOUNDS'][:10]"
   ]
  },
  {
   "cell_type": "markdown",
   "metadata": {},
   "source": [
    "#### It turns out that these are the rows for which start locations or end locations are missing. So, these rows will be useless for any spatial analysis. So, it would be a good idea to drop them."
   ]
  },
  {
   "cell_type": "code",
   "execution_count": 17,
   "metadata": {},
   "outputs": [
    {
     "data": {
      "text/plain": [
       "(2746505, 20)"
      ]
     },
     "execution_count": 17,
     "metadata": {},
     "output_type": "execute_result"
    }
   ],
   "source": [
    "dockless.shape"
   ]
  },
  {
   "cell_type": "code",
   "execution_count": 40,
   "metadata": {},
   "outputs": [],
   "source": [
    "# Removing all rows where either origin cell id or destination cell id is 'OUT_OF_BOUNDS'\n",
    "dockless = dockless.loc[(dockless.origin_cell_id!='OUT_OF_BOUNDS') & (dockless.destination_cell_id!='OUT_OF_BOUNDS')]"
   ]
  },
  {
   "cell_type": "code",
   "execution_count": 41,
   "metadata": {},
   "outputs": [
    {
     "data": {
      "text/plain": [
       "(2695253, 20)"
      ]
     },
     "execution_count": 41,
     "metadata": {},
     "output_type": "execute_result"
    }
   ],
   "source": [
    "# Keeeping track of how many rows we dropped\n",
    "dockless.shape"
   ]
  },
  {
   "cell_type": "markdown",
   "metadata": {},
   "source": [
    "#### There might still be other null, zero and Nan values in the spatial columns so, those rows also need to be dropped."
   ]
  },
  {
   "cell_type": "code",
   "execution_count": 68,
   "metadata": {},
   "outputs": [],
   "source": [
    "dockless.drop(dockless[dockless['start_latitude'].isnull() | dockless['start_latitude']==0 | dockless['start_latitude'].isna()].index,inplace=True)\n",
    "dockless.drop(dockless[dockless['start_longitude'].isnull() | dockless['start_longitude']==0 | dockless['start_longitude'].isna()].index,inplace=True)\n",
    "dockless.drop(dockless[dockless['end_latitude'].isnull() | dockless['end_latitude']==0 | dockless['end_latitude'].isna() ].index,inplace=True)\n",
    "dockless.drop(dockless[dockless['end_longitude'].isnull() | dockless['end_longitude']==0  | dockless['end_longitude'].isna()].index,inplace=True)"
   ]
  },
  {
   "cell_type": "code",
   "execution_count": 69,
   "metadata": {},
   "outputs": [
    {
     "data": {
      "text/plain": [
       "(2688724, 20)"
      ]
     },
     "execution_count": 69,
     "metadata": {},
     "output_type": "execute_result"
    }
   ],
   "source": [
    "# Keeeping track of how many rows we dropped\n",
    "dockless.shape"
   ]
  },
  {
   "cell_type": "code",
   "execution_count": 73,
   "metadata": {},
   "outputs": [
    {
     "data": {
      "text/plain": [
       "array(['scooter', 'bicycle'], dtype=object)"
      ]
     },
     "execution_count": 73,
     "metadata": {},
     "output_type": "execute_result"
    }
   ],
   "source": [
    "dockless.vehicle_type.unique()"
   ]
  },
  {
   "cell_type": "markdown",
   "metadata": {},
   "source": [
    "### Dropping bicycles as we are looking to analyse the patterns of scooters"
   ]
  },
  {
   "cell_type": "code",
   "execution_count": 75,
   "metadata": {},
   "outputs": [],
   "source": [
    "dockless = dockless[dockless.vehicle_type=='scooter']"
   ]
  },
  {
   "cell_type": "code",
   "execution_count": 76,
   "metadata": {},
   "outputs": [
    {
     "data": {
      "text/plain": [
       "(2612879, 20)"
      ]
     },
     "execution_count": 76,
     "metadata": {},
     "output_type": "execute_result"
    }
   ],
   "source": [
    "# Keeeping track of how many rows we dropped\n",
    "dockless.shape"
   ]
  },
  {
   "cell_type": "code",
   "execution_count": 77,
   "metadata": {},
   "outputs": [],
   "source": [
    "dockless.to_csv('Dockless_data_Austin.csv',index=False)"
   ]
  }
 ],
 "metadata": {
  "kernelspec": {
   "display_name": "Python 3",
   "language": "python",
   "name": "python3"
  },
  "language_info": {
   "codemirror_mode": {
    "name": "ipython",
    "version": 3
   },
   "file_extension": ".py",
   "mimetype": "text/x-python",
   "name": "python",
   "nbconvert_exporter": "python",
   "pygments_lexer": "ipython3",
   "version": "3.7.1"
  }
 },
 "nbformat": 4,
 "nbformat_minor": 2
}
