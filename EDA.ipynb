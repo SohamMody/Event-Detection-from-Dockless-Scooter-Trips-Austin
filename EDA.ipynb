{
 "cells": [
  {
   "cell_type": "markdown",
   "metadata": {},
   "source": [
    "### Dockless scooters exploration"
   ]
  },
  {
   "cell_type": "code",
   "execution_count": 83,
   "metadata": {},
   "outputs": [],
   "source": [
    "import numpy as np\n",
    "import pandas as pd\n",
    "import geopandas as gpd\n",
    "import shapely\n",
    "from fiona.crs import from_epsg\n",
    "from geopandas.tools import sjoin\n",
    "import networkx as nx\n",
    "try:\n",
    "    import urllib2 as urllib\n",
    "except ImportError:\n",
    "    import urllib as urllib\n",
    "pd.set_option('display.max_columns', 50)"
   ]
  },
  {
   "cell_type": "markdown",
   "metadata": {},
   "source": [
    "#### Data cleaning has been done in Preprocessing so, we will just read ion the processed data."
   ]
  },
  {
   "cell_type": "code",
   "execution_count": 35,
   "metadata": {},
   "outputs": [],
   "source": [
    "dockless = pd.read_csv('Dockless_data_Austin.csv',infer_datetime_format=True,\\\n",
    "                       parse_dates=['start_time','end_time'],encoding='ascii')"
   ]
  },
  {
   "cell_type": "markdown",
   "metadata": {},
   "source": [
    "#### Checking how the dataframe looks"
   ]
  },
  {
   "cell_type": "code",
   "execution_count": 36,
   "metadata": {},
   "outputs": [
    {
     "data": {
      "text/html": [
       "<div>\n",
       "<style scoped>\n",
       "    .dataframe tbody tr th:only-of-type {\n",
       "        vertical-align: middle;\n",
       "    }\n",
       "\n",
       "    .dataframe tbody tr th {\n",
       "        vertical-align: top;\n",
       "    }\n",
       "\n",
       "    .dataframe thead th {\n",
       "        text-align: right;\n",
       "    }\n",
       "</style>\n",
       "<table border=\"1\" class=\"dataframe\">\n",
       "  <thead>\n",
       "    <tr style=\"text-align: right;\">\n",
       "      <th></th>\n",
       "      <th>id</th>\n",
       "      <th>device_id</th>\n",
       "      <th>vehicle_type</th>\n",
       "      <th>trip_duration</th>\n",
       "      <th>trip_distance</th>\n",
       "      <th>start_time</th>\n",
       "      <th>end_time</th>\n",
       "      <th>modified_date</th>\n",
       "      <th>month</th>\n",
       "      <th>hour</th>\n",
       "      <th>day_of_week</th>\n",
       "      <th>council_district_start</th>\n",
       "      <th>council_district_end</th>\n",
       "      <th>origin_cell_id</th>\n",
       "      <th>destination_cell_id</th>\n",
       "      <th>year</th>\n",
       "      <th>start_latitude</th>\n",
       "      <th>start_longitude</th>\n",
       "      <th>end_latitude</th>\n",
       "      <th>end_longitude</th>\n",
       "    </tr>\n",
       "  </thead>\n",
       "  <tbody>\n",
       "    <tr>\n",
       "      <th>0</th>\n",
       "      <td>000000cb-78a9-4b95-8ead-37c797abcf37</td>\n",
       "      <td>ad14e63b-940d-4ca3-84c6-0131147fba45</td>\n",
       "      <td>scooter</td>\n",
       "      <td>358.0</td>\n",
       "      <td>915.0</td>\n",
       "      <td>2018-06-29 17:30:00</td>\n",
       "      <td>2018-06-29 17:30:00</td>\n",
       "      <td>12/12/2018 09:36:14 PM</td>\n",
       "      <td>6.0</td>\n",
       "      <td>17.0</td>\n",
       "      <td>5.0</td>\n",
       "      <td>5.0</td>\n",
       "      <td>9.0</td>\n",
       "      <td>13445.0</td>\n",
       "      <td>13916.0</td>\n",
       "      <td>2018.0</td>\n",
       "      <td>30.263</td>\n",
       "      <td>-97.762</td>\n",
       "      <td>30.259</td>\n",
       "      <td>-97.754</td>\n",
       "    </tr>\n",
       "    <tr>\n",
       "      <th>1</th>\n",
       "      <td>00001b5f-46aa-4b26-a12f-d7b4d3c69834</td>\n",
       "      <td>c5a230c9-7e80-4464-862f-f2b23f61d6d3</td>\n",
       "      <td>scooter</td>\n",
       "      <td>226.0</td>\n",
       "      <td>839.0</td>\n",
       "      <td>2018-11-30 11:00:00</td>\n",
       "      <td>2018-11-30 11:00:00</td>\n",
       "      <td>12/13/2018 03:43:44 PM</td>\n",
       "      <td>11.0</td>\n",
       "      <td>11.0</td>\n",
       "      <td>5.0</td>\n",
       "      <td>9.0</td>\n",
       "      <td>9.0</td>\n",
       "      <td>14556.0</td>\n",
       "      <td>15186.0</td>\n",
       "      <td>2018.0</td>\n",
       "      <td>30.283</td>\n",
       "      <td>-97.745</td>\n",
       "      <td>30.284</td>\n",
       "      <td>-97.737</td>\n",
       "    </tr>\n",
       "    <tr>\n",
       "      <th>2</th>\n",
       "      <td>00002334-2f2b-41a0-9a04-8ff66be39f40</td>\n",
       "      <td>5a9f7815-bf0c-4fef-8bac-60efd4f23b10</td>\n",
       "      <td>scooter</td>\n",
       "      <td>324.0</td>\n",
       "      <td>1206.0</td>\n",
       "      <td>2018-10-02 15:15:00</td>\n",
       "      <td>2018-10-02 15:30:00</td>\n",
       "      <td>12/13/2018 03:49:54 PM</td>\n",
       "      <td>10.0</td>\n",
       "      <td>15.0</td>\n",
       "      <td>2.0</td>\n",
       "      <td>9.0</td>\n",
       "      <td>9.0</td>\n",
       "      <td>15344.0</td>\n",
       "      <td>15032.0</td>\n",
       "      <td>2018.0</td>\n",
       "      <td>30.285</td>\n",
       "      <td>-97.734</td>\n",
       "      <td>30.291</td>\n",
       "      <td>-97.738</td>\n",
       "    </tr>\n",
       "    <tr>\n",
       "      <th>3</th>\n",
       "      <td>0000261e-c0f0-4fb1-9947-1606dfe4ddcf</td>\n",
       "      <td>41fa0cf0-f433-4b3a-89f5-2c6cec6c367d</td>\n",
       "      <td>scooter</td>\n",
       "      <td>1096.0</td>\n",
       "      <td>0.0</td>\n",
       "      <td>2018-09-02 16:45:00</td>\n",
       "      <td>2018-09-02 17:00:00</td>\n",
       "      <td>12/13/2018 03:53:09 PM</td>\n",
       "      <td>9.0</td>\n",
       "      <td>16.0</td>\n",
       "      <td>0.0</td>\n",
       "      <td>9.0</td>\n",
       "      <td>9.0</td>\n",
       "      <td>14707.0</td>\n",
       "      <td>14081.0</td>\n",
       "      <td>2018.0</td>\n",
       "      <td>30.268</td>\n",
       "      <td>-97.743</td>\n",
       "      <td>30.276</td>\n",
       "      <td>-97.752</td>\n",
       "    </tr>\n",
       "    <tr>\n",
       "      <th>4</th>\n",
       "      <td>00002c70-678b-4c09-a32c-da0266e329c6</td>\n",
       "      <td>ddd4bbc3-114e-4cbc-b078-860e3c28b11b</td>\n",
       "      <td>scooter</td>\n",
       "      <td>408.0</td>\n",
       "      <td>1144.0</td>\n",
       "      <td>2018-09-28 11:45:00</td>\n",
       "      <td>2018-09-28 11:45:00</td>\n",
       "      <td>12/12/2018 10:24:56 PM</td>\n",
       "      <td>9.0</td>\n",
       "      <td>11.0</td>\n",
       "      <td>5.0</td>\n",
       "      <td>3.0</td>\n",
       "      <td>3.0</td>\n",
       "      <td>16114.0</td>\n",
       "      <td>15642.0</td>\n",
       "      <td>2018.0</td>\n",
       "      <td>30.242</td>\n",
       "      <td>-97.721</td>\n",
       "      <td>30.244</td>\n",
       "      <td>-97.729</td>\n",
       "    </tr>\n",
       "  </tbody>\n",
       "</table>\n",
       "</div>"
      ],
      "text/plain": [
       "                                     id                             device_id  \\\n",
       "0  000000cb-78a9-4b95-8ead-37c797abcf37  ad14e63b-940d-4ca3-84c6-0131147fba45   \n",
       "1  00001b5f-46aa-4b26-a12f-d7b4d3c69834  c5a230c9-7e80-4464-862f-f2b23f61d6d3   \n",
       "2  00002334-2f2b-41a0-9a04-8ff66be39f40  5a9f7815-bf0c-4fef-8bac-60efd4f23b10   \n",
       "3  0000261e-c0f0-4fb1-9947-1606dfe4ddcf  41fa0cf0-f433-4b3a-89f5-2c6cec6c367d   \n",
       "4  00002c70-678b-4c09-a32c-da0266e329c6  ddd4bbc3-114e-4cbc-b078-860e3c28b11b   \n",
       "\n",
       "  vehicle_type  trip_duration  trip_distance          start_time  \\\n",
       "0      scooter          358.0          915.0 2018-06-29 17:30:00   \n",
       "1      scooter          226.0          839.0 2018-11-30 11:00:00   \n",
       "2      scooter          324.0         1206.0 2018-10-02 15:15:00   \n",
       "3      scooter         1096.0            0.0 2018-09-02 16:45:00   \n",
       "4      scooter          408.0         1144.0 2018-09-28 11:45:00   \n",
       "\n",
       "             end_time           modified_date  month  hour  day_of_week  \\\n",
       "0 2018-06-29 17:30:00  12/12/2018 09:36:14 PM    6.0  17.0          5.0   \n",
       "1 2018-11-30 11:00:00  12/13/2018 03:43:44 PM   11.0  11.0          5.0   \n",
       "2 2018-10-02 15:30:00  12/13/2018 03:49:54 PM   10.0  15.0          2.0   \n",
       "3 2018-09-02 17:00:00  12/13/2018 03:53:09 PM    9.0  16.0          0.0   \n",
       "4 2018-09-28 11:45:00  12/12/2018 10:24:56 PM    9.0  11.0          5.0   \n",
       "\n",
       "   council_district_start  council_district_end  origin_cell_id  \\\n",
       "0                     5.0                   9.0         13445.0   \n",
       "1                     9.0                   9.0         14556.0   \n",
       "2                     9.0                   9.0         15344.0   \n",
       "3                     9.0                   9.0         14707.0   \n",
       "4                     3.0                   3.0         16114.0   \n",
       "\n",
       "   destination_cell_id    year  start_latitude  start_longitude  end_latitude  \\\n",
       "0              13916.0  2018.0          30.263          -97.762        30.259   \n",
       "1              15186.0  2018.0          30.283          -97.745        30.284   \n",
       "2              15032.0  2018.0          30.285          -97.734        30.291   \n",
       "3              14081.0  2018.0          30.268          -97.743        30.276   \n",
       "4              15642.0  2018.0          30.242          -97.721        30.244   \n",
       "\n",
       "   end_longitude  \n",
       "0        -97.754  \n",
       "1        -97.737  \n",
       "2        -97.738  \n",
       "3        -97.752  \n",
       "4        -97.729  "
      ]
     },
     "execution_count": 36,
     "metadata": {},
     "output_type": "execute_result"
    }
   ],
   "source": [
    "dockless.head()"
   ]
  },
  {
   "cell_type": "code",
   "execution_count": 37,
   "metadata": {},
   "outputs": [
    {
     "name": "stdout",
     "output_type": "stream",
     "text": [
      "<class 'pandas.core.frame.DataFrame'>\n",
      "RangeIndex: 2612879 entries, 0 to 2612878\n",
      "Data columns (total 20 columns):\n",
      "id                        object\n",
      "device_id                 object\n",
      "vehicle_type              object\n",
      "trip_duration             float64\n",
      "trip_distance             float64\n",
      "start_time                datetime64[ns]\n",
      "end_time                  datetime64[ns]\n",
      "modified_date             object\n",
      "month                     float64\n",
      "hour                      float64\n",
      "day_of_week               float64\n",
      "council_district_start    float64\n",
      "council_district_end      float64\n",
      "origin_cell_id            float64\n",
      "destination_cell_id       float64\n",
      "year                      float64\n",
      "start_latitude            float64\n",
      "start_longitude           float64\n",
      "end_latitude              float64\n",
      "end_longitude             float64\n",
      "dtypes: datetime64[ns](2), float64(14), object(4)\n",
      "memory usage: 398.7+ MB\n"
     ]
    }
   ],
   "source": [
    "## Seeing if the columns have appropriate datatypes\n",
    "dockless.info()"
   ]
  },
  {
   "cell_type": "code",
   "execution_count": 61,
   "metadata": {},
   "outputs": [
    {
     "data": {
      "text/plain": [
       "(2612879, 20)"
      ]
     },
     "execution_count": 61,
     "metadata": {},
     "output_type": "execute_result"
    }
   ],
   "source": [
    "dockless.shape"
   ]
  },
  {
   "cell_type": "code",
   "execution_count": 39,
   "metadata": {},
   "outputs": [
    {
     "data": {
      "text/plain": [
       "2612879"
      ]
     },
     "execution_count": 39,
     "metadata": {},
     "output_type": "execute_result"
    }
   ],
   "source": [
    "len(dockless.id.unique())"
   ]
  },
  {
   "cell_type": "code",
   "execution_count": 42,
   "metadata": {},
   "outputs": [],
   "source": [
    "dockless_sub = dockless[:100000]"
   ]
  },
  {
   "cell_type": "code",
   "execution_count": 45,
   "metadata": {},
   "outputs": [],
   "source": [
    "dockless_sub.drop(['vehicle_type','modified_date'],axis=1,inplace=True)"
   ]
  },
  {
   "cell_type": "code",
   "execution_count": 58,
   "metadata": {},
   "outputs": [
    {
     "name": "stderr",
     "output_type": "stream",
     "text": [
      "/anaconda3/envs/nishi/lib/python2.7/site-packages/ipykernel_launcher.py:1: SettingWithCopyWarning: \n",
      "A value is trying to be set on a copy of a slice from a DataFrame\n",
      "\n",
      "See the caveats in the documentation: http://pandas.pydata.org/pandas-docs/stable/indexing.html#indexing-view-versus-copy\n",
      "  \"\"\"Entry point for launching an IPython kernel.\n"
     ]
    }
   ],
   "source": [
    "dockless_sub.dropna(inplace=True)"
   ]
  },
  {
   "cell_type": "code",
   "execution_count": 74,
   "metadata": {},
   "outputs": [
    {
     "data": {
      "text/html": [
       "<div>\n",
       "<style scoped>\n",
       "    .dataframe tbody tr th:only-of-type {\n",
       "        vertical-align: middle;\n",
       "    }\n",
       "\n",
       "    .dataframe tbody tr th {\n",
       "        vertical-align: top;\n",
       "    }\n",
       "\n",
       "    .dataframe thead th {\n",
       "        text-align: right;\n",
       "    }\n",
       "</style>\n",
       "<table border=\"1\" class=\"dataframe\">\n",
       "  <thead>\n",
       "    <tr style=\"text-align: right;\">\n",
       "      <th></th>\n",
       "      <th></th>\n",
       "      <th>id</th>\n",
       "    </tr>\n",
       "    <tr>\n",
       "      <th>council_district_start</th>\n",
       "      <th>council_district_end</th>\n",
       "      <th></th>\n",
       "    </tr>\n",
       "  </thead>\n",
       "  <tbody>\n",
       "    <tr>\n",
       "      <th rowspan=\"3\" valign=\"top\">0.0</th>\n",
       "      <th>0.0</th>\n",
       "      <td>23</td>\n",
       "    </tr>\n",
       "    <tr>\n",
       "      <th>8.0</th>\n",
       "      <td>3</td>\n",
       "    </tr>\n",
       "    <tr>\n",
       "      <th>9.0</th>\n",
       "      <td>1</td>\n",
       "    </tr>\n",
       "    <tr>\n",
       "      <th rowspan=\"8\" valign=\"top\">1.0</th>\n",
       "      <th>1.0</th>\n",
       "      <td>2984</td>\n",
       "    </tr>\n",
       "    <tr>\n",
       "      <th>3.0</th>\n",
       "      <td>277</td>\n",
       "    </tr>\n",
       "    <tr>\n",
       "      <th>4.0</th>\n",
       "      <td>10</td>\n",
       "    </tr>\n",
       "    <tr>\n",
       "      <th>5.0</th>\n",
       "      <td>16</td>\n",
       "    </tr>\n",
       "    <tr>\n",
       "      <th>7.0</th>\n",
       "      <td>3</td>\n",
       "    </tr>\n",
       "    <tr>\n",
       "      <th>8.0</th>\n",
       "      <td>7</td>\n",
       "    </tr>\n",
       "    <tr>\n",
       "      <th>9.0</th>\n",
       "      <td>2619</td>\n",
       "    </tr>\n",
       "    <tr>\n",
       "      <th>10.0</th>\n",
       "      <td>2</td>\n",
       "    </tr>\n",
       "    <tr>\n",
       "      <th rowspan=\"6\" valign=\"top\">2.0</th>\n",
       "      <th>0.0</th>\n",
       "      <td>1</td>\n",
       "    </tr>\n",
       "    <tr>\n",
       "      <th>1.0</th>\n",
       "      <td>1</td>\n",
       "    </tr>\n",
       "    <tr>\n",
       "      <th>2.0</th>\n",
       "      <td>83</td>\n",
       "    </tr>\n",
       "    <tr>\n",
       "      <th>3.0</th>\n",
       "      <td>14</td>\n",
       "    </tr>\n",
       "    <tr>\n",
       "      <th>5.0</th>\n",
       "      <td>5</td>\n",
       "    </tr>\n",
       "    <tr>\n",
       "      <th>9.0</th>\n",
       "      <td>8</td>\n",
       "    </tr>\n",
       "    <tr>\n",
       "      <th rowspan=\"9\" valign=\"top\">3.0</th>\n",
       "      <th>1.0</th>\n",
       "      <td>275</td>\n",
       "    </tr>\n",
       "    <tr>\n",
       "      <th>2.0</th>\n",
       "      <td>20</td>\n",
       "    </tr>\n",
       "    <tr>\n",
       "      <th>3.0</th>\n",
       "      <td>4580</td>\n",
       "    </tr>\n",
       "    <tr>\n",
       "      <th>4.0</th>\n",
       "      <td>1</td>\n",
       "    </tr>\n",
       "    <tr>\n",
       "      <th>5.0</th>\n",
       "      <td>73</td>\n",
       "    </tr>\n",
       "    <tr>\n",
       "      <th>7.0</th>\n",
       "      <td>2</td>\n",
       "    </tr>\n",
       "    <tr>\n",
       "      <th>8.0</th>\n",
       "      <td>8</td>\n",
       "    </tr>\n",
       "    <tr>\n",
       "      <th>9.0</th>\n",
       "      <td>1637</td>\n",
       "    </tr>\n",
       "    <tr>\n",
       "      <th>10.0</th>\n",
       "      <td>3</td>\n",
       "    </tr>\n",
       "    <tr>\n",
       "      <th rowspan=\"4\" valign=\"top\">4.0</th>\n",
       "      <th>0.0</th>\n",
       "      <td>1</td>\n",
       "    </tr>\n",
       "    <tr>\n",
       "      <th>1.0</th>\n",
       "      <td>14</td>\n",
       "    </tr>\n",
       "    <tr>\n",
       "      <th>4.0</th>\n",
       "      <td>258</td>\n",
       "    </tr>\n",
       "    <tr>\n",
       "      <th>7.0</th>\n",
       "      <td>20</td>\n",
       "    </tr>\n",
       "    <tr>\n",
       "      <th>...</th>\n",
       "      <th>...</th>\n",
       "      <td>...</td>\n",
       "    </tr>\n",
       "    <tr>\n",
       "      <th rowspan=\"6\" valign=\"top\">7.0</th>\n",
       "      <th>1.0</th>\n",
       "      <td>3</td>\n",
       "    </tr>\n",
       "    <tr>\n",
       "      <th>4.0</th>\n",
       "      <td>35</td>\n",
       "    </tr>\n",
       "    <tr>\n",
       "      <th>5.0</th>\n",
       "      <td>1</td>\n",
       "    </tr>\n",
       "    <tr>\n",
       "      <th>7.0</th>\n",
       "      <td>922</td>\n",
       "    </tr>\n",
       "    <tr>\n",
       "      <th>9.0</th>\n",
       "      <td>32</td>\n",
       "    </tr>\n",
       "    <tr>\n",
       "      <th>10.0</th>\n",
       "      <td>19</td>\n",
       "    </tr>\n",
       "    <tr>\n",
       "      <th rowspan=\"7\" valign=\"top\">8.0</th>\n",
       "      <th>0.0</th>\n",
       "      <td>4</td>\n",
       "    </tr>\n",
       "    <tr>\n",
       "      <th>1.0</th>\n",
       "      <td>3</td>\n",
       "    </tr>\n",
       "    <tr>\n",
       "      <th>3.0</th>\n",
       "      <td>2</td>\n",
       "    </tr>\n",
       "    <tr>\n",
       "      <th>5.0</th>\n",
       "      <td>87</td>\n",
       "    </tr>\n",
       "    <tr>\n",
       "      <th>8.0</th>\n",
       "      <td>293</td>\n",
       "    </tr>\n",
       "    <tr>\n",
       "      <th>9.0</th>\n",
       "      <td>125</td>\n",
       "    </tr>\n",
       "    <tr>\n",
       "      <th>10.0</th>\n",
       "      <td>8</td>\n",
       "    </tr>\n",
       "    <tr>\n",
       "      <th rowspan=\"10\" valign=\"top\">9.0</th>\n",
       "      <th>0.0</th>\n",
       "      <td>2</td>\n",
       "    </tr>\n",
       "    <tr>\n",
       "      <th>1.0</th>\n",
       "      <td>3087</td>\n",
       "    </tr>\n",
       "    <tr>\n",
       "      <th>2.0</th>\n",
       "      <td>4</td>\n",
       "    </tr>\n",
       "    <tr>\n",
       "      <th>3.0</th>\n",
       "      <td>2036</td>\n",
       "    </tr>\n",
       "    <tr>\n",
       "      <th>4.0</th>\n",
       "      <td>92</td>\n",
       "    </tr>\n",
       "    <tr>\n",
       "      <th>5.0</th>\n",
       "      <td>1350</td>\n",
       "    </tr>\n",
       "    <tr>\n",
       "      <th>7.0</th>\n",
       "      <td>40</td>\n",
       "    </tr>\n",
       "    <tr>\n",
       "      <th>8.0</th>\n",
       "      <td>206</td>\n",
       "    </tr>\n",
       "    <tr>\n",
       "      <th>9.0</th>\n",
       "      <td>74616</td>\n",
       "    </tr>\n",
       "    <tr>\n",
       "      <th>10.0</th>\n",
       "      <td>153</td>\n",
       "    </tr>\n",
       "    <tr>\n",
       "      <th rowspan=\"7\" valign=\"top\">10.0</th>\n",
       "      <th>1.0</th>\n",
       "      <td>1</td>\n",
       "    </tr>\n",
       "    <tr>\n",
       "      <th>5.0</th>\n",
       "      <td>4</td>\n",
       "    </tr>\n",
       "    <tr>\n",
       "      <th>6.0</th>\n",
       "      <td>2</td>\n",
       "    </tr>\n",
       "    <tr>\n",
       "      <th>7.0</th>\n",
       "      <td>18</td>\n",
       "    </tr>\n",
       "    <tr>\n",
       "      <th>8.0</th>\n",
       "      <td>1</td>\n",
       "    </tr>\n",
       "    <tr>\n",
       "      <th>9.0</th>\n",
       "      <td>131</td>\n",
       "    </tr>\n",
       "    <tr>\n",
       "      <th>10.0</th>\n",
       "      <td>388</td>\n",
       "    </tr>\n",
       "  </tbody>\n",
       "</table>\n",
       "<p>74 rows × 1 columns</p>\n",
       "</div>"
      ],
      "text/plain": [
       "                                                id\n",
       "council_district_start council_district_end       \n",
       "0.0                    0.0                      23\n",
       "                       8.0                       3\n",
       "                       9.0                       1\n",
       "1.0                    1.0                    2984\n",
       "                       3.0                     277\n",
       "                       4.0                      10\n",
       "                       5.0                      16\n",
       "                       7.0                       3\n",
       "                       8.0                       7\n",
       "                       9.0                    2619\n",
       "                       10.0                      2\n",
       "2.0                    0.0                       1\n",
       "                       1.0                       1\n",
       "                       2.0                      83\n",
       "                       3.0                      14\n",
       "                       5.0                       5\n",
       "                       9.0                       8\n",
       "3.0                    1.0                     275\n",
       "                       2.0                      20\n",
       "                       3.0                    4580\n",
       "                       4.0                       1\n",
       "                       5.0                      73\n",
       "                       7.0                       2\n",
       "                       8.0                       8\n",
       "                       9.0                    1637\n",
       "                       10.0                      3\n",
       "4.0                    0.0                       1\n",
       "                       1.0                      14\n",
       "                       4.0                     258\n",
       "                       7.0                      20\n",
       "...                                            ...\n",
       "7.0                    1.0                       3\n",
       "                       4.0                      35\n",
       "                       5.0                       1\n",
       "                       7.0                     922\n",
       "                       9.0                      32\n",
       "                       10.0                     19\n",
       "8.0                    0.0                       4\n",
       "                       1.0                       3\n",
       "                       3.0                       2\n",
       "                       5.0                      87\n",
       "                       8.0                     293\n",
       "                       9.0                     125\n",
       "                       10.0                      8\n",
       "9.0                    0.0                       2\n",
       "                       1.0                    3087\n",
       "                       2.0                       4\n",
       "                       3.0                    2036\n",
       "                       4.0                      92\n",
       "                       5.0                    1350\n",
       "                       7.0                      40\n",
       "                       8.0                     206\n",
       "                       9.0                   74616\n",
       "                       10.0                    153\n",
       "10.0                   1.0                       1\n",
       "                       5.0                       4\n",
       "                       6.0                       2\n",
       "                       7.0                      18\n",
       "                       8.0                       1\n",
       "                       9.0                     131\n",
       "                       10.0                    388\n",
       "\n",
       "[74 rows x 1 columns]"
      ]
     },
     "execution_count": 74,
     "metadata": {},
     "output_type": "execute_result"
    }
   ],
   "source": [
    "dockless_sub.groupby(['council_district_start','council_district_end']).count()[['id']]"
   ]
  },
  {
   "cell_type": "markdown",
   "metadata": {},
   "source": [
    "![Austin_Council_Districts](Austin_council_districts.png)"
   ]
  },
  {
   "cell_type": "markdown",
   "metadata": {},
   "source": [
    "#### So, the number of rides originating in each council district kind of make sense,as district 9 has the most number of rides and it represents the city center."
   ]
  },
  {
   "cell_type": "code",
   "execution_count": 62,
   "metadata": {},
   "outputs": [],
   "source": [
    "FG = nx.from_pandas_dataframe(dockless_sub, source='council_district_start', target='council_district_end', edge_attr=True)"
   ]
  },
  {
   "cell_type": "code",
   "execution_count": 63,
   "metadata": {},
   "outputs": [
    {
     "data": {
      "text/plain": [
       "[0.0, 1.0, 2.0, 3.0, 4.0, 5.0, 6.0, 7.0, 8.0, 9.0, 10.0]"
      ]
     },
     "execution_count": 63,
     "metadata": {},
     "output_type": "execute_result"
    }
   ],
   "source": [
    "FG.nodes()"
   ]
  },
  {
   "cell_type": "code",
   "execution_count": 64,
   "metadata": {},
   "outputs": [
    {
     "data": {
      "text/plain": [
       "[(0.0, 0.0),\n",
       " (0.0, 2.0),\n",
       " (0.0, 4.0),\n",
       " (0.0, 5.0),\n",
       " (0.0, 7.0),\n",
       " (0.0, 8.0),\n",
       " (0.0, 9.0),\n",
       " (1.0, 1.0),\n",
       " (1.0, 2.0),\n",
       " (1.0, 3.0),\n",
       " (1.0, 4.0),\n",
       " (1.0, 5.0),\n",
       " (1.0, 7.0),\n",
       " (1.0, 8.0),\n",
       " (1.0, 9.0),\n",
       " (1.0, 10.0),\n",
       " (2.0, 2.0),\n",
       " (2.0, 3.0),\n",
       " (2.0, 5.0),\n",
       " (2.0, 9.0),\n",
       " (3.0, 3.0),\n",
       " (3.0, 4.0),\n",
       " (3.0, 5.0),\n",
       " (3.0, 7.0),\n",
       " (3.0, 8.0),\n",
       " (3.0, 9.0),\n",
       " (3.0, 10.0),\n",
       " (4.0, 4.0),\n",
       " (4.0, 5.0),\n",
       " (4.0, 7.0),\n",
       " (4.0, 9.0),\n",
       " (4.0, 10.0),\n",
       " (5.0, 5.0),\n",
       " (5.0, 7.0),\n",
       " (5.0, 8.0),\n",
       " (5.0, 9.0),\n",
       " (5.0, 10.0),\n",
       " (6.0, 10.0),\n",
       " (6.0, 6.0),\n",
       " (6.0, 7.0),\n",
       " (7.0, 7.0),\n",
       " (7.0, 9.0),\n",
       " (7.0, 10.0),\n",
       " (8.0, 8.0),\n",
       " (8.0, 9.0),\n",
       " (8.0, 10.0),\n",
       " (9.0, 9.0),\n",
       " (9.0, 10.0),\n",
       " (10.0, 10.0)]"
      ]
     },
     "execution_count": 64,
     "metadata": {},
     "output_type": "execute_result"
    }
   ],
   "source": [
    "FG.edges()"
   ]
  },
  {
   "cell_type": "code",
   "execution_count": 66,
   "metadata": {},
   "outputs": [
    {
     "data": {
      "image/png": "[encoded data removed]",
      "text/plain": [
       "<Figure size 432x288 with 1 Axes>"
      ]
     },
     "metadata": {
      "needs_background": "light"
     },
     "output_type": "display_data"
    }
   ],
   "source": [
    "nx.draw_networkx(FG, with_labels=True)"
   ]
  },
  {
   "cell_type": "code",
   "execution_count": 69,
   "metadata": {},
   "outputs": [
    {
     "data": {
      "text/plain": [
       "{0.0: 0.8,\n",
       " 1.0: 1.0,\n",
       " 2.0: 0.7000000000000001,\n",
       " 3.0: 1.0,\n",
       " 4.0: 0.9,\n",
       " 5.0: 1.1,\n",
       " 6.0: 0.4,\n",
       " 7.0: 1.0,\n",
       " 8.0: 0.8,\n",
       " 9.0: 1.1,\n",
       " 10.0: 1.0}"
      ]
     },
     "execution_count": 69,
     "metadata": {},
     "output_type": "execute_result"
    }
   ],
   "source": [
    "nx.degree_centrality(FG)"
   ]
  },
  {
   "cell_type": "code",
   "execution_count": 77,
   "metadata": {},
   "outputs": [
    {
     "name": "stderr",
     "output_type": "stream",
     "text": [
      "/anaconda3/envs/nishi/lib/python2.7/site-packages/ipykernel_launcher.py:2: SettingWithCopyWarning: \n",
      "A value is trying to be set on a copy of a slice from a DataFrame.\n",
      "Try using .loc[row_indexer,col_indexer] = value instead\n",
      "\n",
      "See the caveats in the documentation: http://pandas.pydata.org/pandas-docs/stable/indexing.html#indexing-view-versus-copy\n",
      "  \n",
      "/anaconda3/envs/nishi/lib/python2.7/site-packages/ipykernel_launcher.py:4: SettingWithCopyWarning: \n",
      "A value is trying to be set on a copy of a slice from a DataFrame.\n",
      "Try using .loc[row_indexer,col_indexer] = value instead\n",
      "\n",
      "See the caveats in the documentation: http://pandas.pydata.org/pandas-docs/stable/indexing.html#indexing-view-versus-copy\n",
      "  after removing the cwd from sys.path.\n"
     ]
    }
   ],
   "source": [
    "#Combine lat long into a tuple column\n",
    "dockless_sub['lonlat'] = list(zip(dockless_sub.start_longitude, dockless_sub.start_latitude))\n",
    "#Create Point feature in geometry column\n",
    "dockless_sub['geometry'] = dockless_sub.lonlat.apply(lambda x: shapely.geometry.Point(x))\n",
    "#Create GeoDataFrame\n",
    "dockless_sub_gdf = gpd.GeoDataFrame(dockless_sub)\n",
    "#Set CRS\n",
    "dockless_sub_gdf.crs = from_epsg(4326)"
   ]
  },
  {
   "cell_type": "code",
   "execution_count": 80,
   "metadata": {},
   "outputs": [
    {
     "data": {
      "text/plain": [
       "<matplotlib.axes._subplots.AxesSubplot at 0x12c21c710>"
      ]
     },
     "execution_count": 80,
     "metadata": {},
     "output_type": "execute_result"
    },
    {
     "data": {
      "image/png": "[encoded data removed]",
      "text/plain": [
       "<Figure size 432x288 with 1 Axes>"
      ]
     },
     "metadata": {
      "needs_background": "light"
     },
     "output_type": "display_data"
    }
   ],
   "source": [
    "dockless_sub_gdf[dockless_sub_gdf.council_district_start==9].plot()"
   ]
  },
  {
   "cell_type": "code",
   "execution_count": null,
   "metadata": {},
   "outputs": [],
   "source": [
    "https://data.austintexas.gov/api/geospatial/hdpc-ysmz?method=export&format=Shapefile"
   ]
  },
  {
   "cell_type": "code",
   "execution_count": 84,
   "metadata": {},
   "outputs": [
    {
     "ename": "AttributeError",
     "evalue": "'module' object has no attribute 'request'",
     "output_type": "error",
     "traceback": [
      "\u001b[0;31m---------------------------------------------------------------------------\u001b[0m",
      "\u001b[0;31mAttributeError\u001b[0m                            Traceback (most recent call last)",
      "\u001b[0;32m<ipython-input-84-6b64b1c0a304>\u001b[0m in \u001b[0;36m<module>\u001b[0;34m()\u001b[0m\n\u001b[1;32m      1\u001b[0m \u001b[0murl\u001b[0m \u001b[0;34m=\u001b[0m \u001b[0;34m\"https://data.austintexas.gov/api/geospatial/hdpc-ysmz?method=export&format=Shapefile\"\u001b[0m\u001b[0;34m\u001b[0m\u001b[0m\n\u001b[0;32m----> 2\u001b[0;31m \u001b[0murllib\u001b[0m\u001b[0;34m.\u001b[0m\u001b[0mrequest\u001b[0m\u001b[0;34m.\u001b[0m\u001b[0murlretrieve\u001b[0m\u001b[0;34m(\u001b[0m\u001b[0murl\u001b[0m\u001b[0;34m,\u001b[0m \u001b[0;34m'/'\u001b[0m\u001b[0;34m+\u001b[0m\u001b[0;34m\"council.gz\"\u001b[0m\u001b[0;34m)\u001b[0m\u001b[0;34m\u001b[0m\u001b[0m\n\u001b[0m",
      "\u001b[0;31mAttributeError\u001b[0m: 'module' object has no attribute 'request'"
     ]
    }
   ],
   "source": [
    "url = \"https://data.austintexas.gov/api/geospatial/hdpc-ysmz?method=export&format=Shapefile\"\n",
    "urllib.request.urlretrieve(url, '/'+\"council.gz\")"
   ]
  },
  {
   "cell_type": "code",
   "execution_count": null,
   "metadata": {},
   "outputs": [],
   "source": []
  }
 ],
 "metadata": {
  "kernelspec": {
   "display_name": "nishi",
   "language": "python",
   "name": "nishi"
  },
  "language_info": {
   "codemirror_mode": {
    "name": "ipython",
    "version": 2
   },
   "file_extension": ".py",
   "mimetype": "text/x-python",
   "name": "python",
   "nbconvert_exporter": "python",
   "pygments_lexer": "ipython2",
   "version": "2.7.16"
  }
 },
 "nbformat": 4,
 "nbformat_minor": 2
}
