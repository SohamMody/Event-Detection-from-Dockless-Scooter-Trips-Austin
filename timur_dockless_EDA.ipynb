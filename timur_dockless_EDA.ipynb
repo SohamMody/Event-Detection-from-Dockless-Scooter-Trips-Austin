{
 "cells": [
  {
   "cell_type": "code",
   "execution_count": 1,
   "metadata": {},
   "outputs": [],
   "source": [
    "import pandas as pd\n",
    "import numpy as np"
   ]
  },
  {
   "cell_type": "code",
   "execution_count": 2,
   "metadata": {},
   "outputs": [
    {
     "name": "stderr",
     "output_type": "stream",
     "text": [
      "/anaconda3/lib/python3.7/site-packages/IPython/core/interactiveshell.py:3049: DtypeWarning: Columns (13) have mixed types. Specify dtype option on import or set low_memory=False.\n",
      "  interactivity=interactivity, compiler=compiler, result=result)\n"
     ]
    }
   ],
   "source": [
    "url = 'https://s3.amazonaws.com/sameera-bucket-1/dockless_mobility/raw_data/Austin_Dockless_Vehicle_Trips.csv'\n",
    "data = pd.read_csv(url)"
   ]
  },
  {
   "cell_type": "code",
   "execution_count": 3,
   "metadata": {},
   "outputs": [
    {
     "data": {
      "text/html": [
       "<div>\n",
       "<style scoped>\n",
       "    .dataframe tbody tr th:only-of-type {\n",
       "        vertical-align: middle;\n",
       "    }\n",
       "\n",
       "    .dataframe tbody tr th {\n",
       "        vertical-align: top;\n",
       "    }\n",
       "\n",
       "    .dataframe thead th {\n",
       "        text-align: right;\n",
       "    }\n",
       "</style>\n",
       "<table border=\"1\" class=\"dataframe\">\n",
       "  <thead>\n",
       "    <tr style=\"text-align: right;\">\n",
       "      <th></th>\n",
       "      <th>ID</th>\n",
       "      <th>Device ID</th>\n",
       "      <th>Vehicle Type</th>\n",
       "      <th>Trip Duration</th>\n",
       "      <th>Trip Distance</th>\n",
       "      <th>Start Time</th>\n",
       "      <th>End Time</th>\n",
       "      <th>Modified Date</th>\n",
       "      <th>Month</th>\n",
       "      <th>Hour</th>\n",
       "      <th>Day of Week</th>\n",
       "      <th>Council District (Start)</th>\n",
       "      <th>Council District (End)</th>\n",
       "      <th>Origin Cell ID</th>\n",
       "      <th>Destination Cell ID</th>\n",
       "      <th>Year</th>\n",
       "      <th>Start Latitude</th>\n",
       "      <th>Start Longitude</th>\n",
       "      <th>End Latitude</th>\n",
       "      <th>End Longitude</th>\n",
       "    </tr>\n",
       "  </thead>\n",
       "  <tbody>\n",
       "    <tr>\n",
       "      <th>0</th>\n",
       "      <td>000000cb-78a9-4b95-8ead-37c797abcf37</td>\n",
       "      <td>ad14e63b-940d-4ca3-84c6-0131147fba45</td>\n",
       "      <td>scooter</td>\n",
       "      <td>358.0</td>\n",
       "      <td>915.0</td>\n",
       "      <td>06/29/2018 05:30:00 PM</td>\n",
       "      <td>06/29/2018 05:30:00 PM</td>\n",
       "      <td>12/12/2018 09:36:14 PM</td>\n",
       "      <td>6.0</td>\n",
       "      <td>17.0</td>\n",
       "      <td>5.0</td>\n",
       "      <td>5.0</td>\n",
       "      <td>9.0</td>\n",
       "      <td>013445</td>\n",
       "      <td>013916</td>\n",
       "      <td>2018.0</td>\n",
       "      <td>30.263</td>\n",
       "      <td>-97.762</td>\n",
       "      <td>30.259</td>\n",
       "      <td>-97.754</td>\n",
       "    </tr>\n",
       "    <tr>\n",
       "      <th>1</th>\n",
       "      <td>00001b5f-46aa-4b26-a12f-d7b4d3c69834</td>\n",
       "      <td>c5a230c9-7e80-4464-862f-f2b23f61d6d3</td>\n",
       "      <td>scooter</td>\n",
       "      <td>226.0</td>\n",
       "      <td>839.0</td>\n",
       "      <td>11/30/2018 11:00:00 AM</td>\n",
       "      <td>11/30/2018 11:00:00 AM</td>\n",
       "      <td>12/13/2018 03:43:44 PM</td>\n",
       "      <td>11.0</td>\n",
       "      <td>11.0</td>\n",
       "      <td>5.0</td>\n",
       "      <td>9.0</td>\n",
       "      <td>9.0</td>\n",
       "      <td>014556</td>\n",
       "      <td>015186</td>\n",
       "      <td>2018.0</td>\n",
       "      <td>30.283</td>\n",
       "      <td>-97.745</td>\n",
       "      <td>30.284</td>\n",
       "      <td>-97.737</td>\n",
       "    </tr>\n",
       "    <tr>\n",
       "      <th>2</th>\n",
       "      <td>00002334-2f2b-41a0-9a04-8ff66be39f40</td>\n",
       "      <td>5a9f7815-bf0c-4fef-8bac-60efd4f23b10</td>\n",
       "      <td>scooter</td>\n",
       "      <td>324.0</td>\n",
       "      <td>1206.0</td>\n",
       "      <td>10/02/2018 03:15:00 PM</td>\n",
       "      <td>10/02/2018 03:30:00 PM</td>\n",
       "      <td>12/13/2018 03:49:54 PM</td>\n",
       "      <td>10.0</td>\n",
       "      <td>15.0</td>\n",
       "      <td>2.0</td>\n",
       "      <td>9.0</td>\n",
       "      <td>9.0</td>\n",
       "      <td>015344</td>\n",
       "      <td>015032</td>\n",
       "      <td>2018.0</td>\n",
       "      <td>30.285</td>\n",
       "      <td>-97.734</td>\n",
       "      <td>30.291</td>\n",
       "      <td>-97.738</td>\n",
       "    </tr>\n",
       "    <tr>\n",
       "      <th>3</th>\n",
       "      <td>0000261e-c0f0-4fb1-9947-1606dfe4ddcf</td>\n",
       "      <td>41fa0cf0-f433-4b3a-89f5-2c6cec6c367d</td>\n",
       "      <td>scooter</td>\n",
       "      <td>1096.0</td>\n",
       "      <td>0.0</td>\n",
       "      <td>09/02/2018 04:45:00 PM</td>\n",
       "      <td>09/02/2018 05:00:00 PM</td>\n",
       "      <td>12/13/2018 03:53:09 PM</td>\n",
       "      <td>9.0</td>\n",
       "      <td>16.0</td>\n",
       "      <td>0.0</td>\n",
       "      <td>9.0</td>\n",
       "      <td>9.0</td>\n",
       "      <td>014707</td>\n",
       "      <td>014081</td>\n",
       "      <td>2018.0</td>\n",
       "      <td>30.268</td>\n",
       "      <td>-97.743</td>\n",
       "      <td>30.276</td>\n",
       "      <td>-97.752</td>\n",
       "    </tr>\n",
       "    <tr>\n",
       "      <th>4</th>\n",
       "      <td>00002c70-678b-4c09-a32c-da0266e329c6</td>\n",
       "      <td>ddd4bbc3-114e-4cbc-b078-860e3c28b11b</td>\n",
       "      <td>scooter</td>\n",
       "      <td>408.0</td>\n",
       "      <td>1144.0</td>\n",
       "      <td>09/28/2018 11:45:00 AM</td>\n",
       "      <td>09/28/2018 11:45:00 AM</td>\n",
       "      <td>12/12/2018 10:24:56 PM</td>\n",
       "      <td>9.0</td>\n",
       "      <td>11.0</td>\n",
       "      <td>5.0</td>\n",
       "      <td>3.0</td>\n",
       "      <td>3.0</td>\n",
       "      <td>016114</td>\n",
       "      <td>015642</td>\n",
       "      <td>2018.0</td>\n",
       "      <td>30.242</td>\n",
       "      <td>-97.721</td>\n",
       "      <td>30.244</td>\n",
       "      <td>-97.729</td>\n",
       "    </tr>\n",
       "  </tbody>\n",
       "</table>\n",
       "</div>"
      ],
      "text/plain": [
       "                                     ID                             Device ID  \\\n",
       "0  000000cb-78a9-4b95-8ead-37c797abcf37  ad14e63b-940d-4ca3-84c6-0131147fba45   \n",
       "1  00001b5f-46aa-4b26-a12f-d7b4d3c69834  c5a230c9-7e80-4464-862f-f2b23f61d6d3   \n",
       "2  00002334-2f2b-41a0-9a04-8ff66be39f40  5a9f7815-bf0c-4fef-8bac-60efd4f23b10   \n",
       "3  0000261e-c0f0-4fb1-9947-1606dfe4ddcf  41fa0cf0-f433-4b3a-89f5-2c6cec6c367d   \n",
       "4  00002c70-678b-4c09-a32c-da0266e329c6  ddd4bbc3-114e-4cbc-b078-860e3c28b11b   \n",
       "\n",
       "  Vehicle Type  Trip Duration  Trip Distance              Start Time  \\\n",
       "0      scooter          358.0          915.0  06/29/2018 05:30:00 PM   \n",
       "1      scooter          226.0          839.0  11/30/2018 11:00:00 AM   \n",
       "2      scooter          324.0         1206.0  10/02/2018 03:15:00 PM   \n",
       "3      scooter         1096.0            0.0  09/02/2018 04:45:00 PM   \n",
       "4      scooter          408.0         1144.0  09/28/2018 11:45:00 AM   \n",
       "\n",
       "                 End Time           Modified Date  Month  Hour  Day of Week  \\\n",
       "0  06/29/2018 05:30:00 PM  12/12/2018 09:36:14 PM    6.0  17.0          5.0   \n",
       "1  11/30/2018 11:00:00 AM  12/13/2018 03:43:44 PM   11.0  11.0          5.0   \n",
       "2  10/02/2018 03:30:00 PM  12/13/2018 03:49:54 PM   10.0  15.0          2.0   \n",
       "3  09/02/2018 05:00:00 PM  12/13/2018 03:53:09 PM    9.0  16.0          0.0   \n",
       "4  09/28/2018 11:45:00 AM  12/12/2018 10:24:56 PM    9.0  11.0          5.0   \n",
       "\n",
       "   Council District (Start)  Council District (End) Origin Cell ID  \\\n",
       "0                       5.0                     9.0         013445   \n",
       "1                       9.0                     9.0         014556   \n",
       "2                       9.0                     9.0         015344   \n",
       "3                       9.0                     9.0         014707   \n",
       "4                       3.0                     3.0         016114   \n",
       "\n",
       "  Destination Cell ID    Year  Start Latitude  Start Longitude  End Latitude  \\\n",
       "0              013916  2018.0          30.263          -97.762        30.259   \n",
       "1              015186  2018.0          30.283          -97.745        30.284   \n",
       "2              015032  2018.0          30.285          -97.734        30.291   \n",
       "3              014081  2018.0          30.268          -97.743        30.276   \n",
       "4              015642  2018.0          30.242          -97.721        30.244   \n",
       "\n",
       "   End Longitude  \n",
       "0        -97.754  \n",
       "1        -97.737  \n",
       "2        -97.738  \n",
       "3        -97.752  \n",
       "4        -97.729  "
      ]
     },
     "execution_count": 3,
     "metadata": {},
     "output_type": "execute_result"
    }
   ],
   "source": [
    "data.head()"
   ]
  },
  {
   "cell_type": "code",
   "execution_count": 4,
   "metadata": {},
   "outputs": [],
   "source": [
    "# save dataset locally to the folder \n",
    "# data.to_csv('austin_dockless.csv')"
   ]
  },
  {
   "cell_type": "code",
   "execution_count": 9,
   "metadata": {},
   "outputs": [
    {
     "name": "stdout",
     "output_type": "stream",
     "text": [
      "<class 'pandas.core.frame.DataFrame'>\n",
      "RangeIndex: 2746505 entries, 0 to 2746504\n",
      "Data columns (total 20 columns):\n",
      "ID                          object\n",
      "Device ID                   object\n",
      "Vehicle Type                object\n",
      "Trip Duration               float64\n",
      "Trip Distance               float64\n",
      "Start Time                  object\n",
      "End Time                    object\n",
      "Modified Date               object\n",
      "Month                       float64\n",
      "Hour                        float64\n",
      "Day of Week                 float64\n",
      "Council District (Start)    float64\n",
      "Council District (End)      float64\n",
      "Origin Cell ID              object\n",
      "Destination Cell ID         object\n",
      "Year                        float64\n",
      "Start Latitude              float64\n",
      "Start Longitude             float64\n",
      "End Latitude                float64\n",
      "End Longitude               float64\n",
      "dtypes: float64(12), object(8)\n",
      "memory usage: 419.1+ MB\n"
     ]
    }
   ],
   "source": [
    "# check datatypes \n",
    "data.info()"
   ]
  },
  {
   "cell_type": "markdown",
   "metadata": {},
   "source": [
    "We need to convert 'Start Time' and 'End Time' column types to datettime format"
   ]
  },
  {
   "cell_type": "code",
   "execution_count": 12,
   "metadata": {},
   "outputs": [],
   "source": [
    "data['Start Time'] = pd.to_datetime(data['Start Time'], infer_datetime_format=True)"
   ]
  },
  {
   "cell_type": "code",
   "execution_count": 14,
   "metadata": {},
   "outputs": [],
   "source": [
    "data['End Time'] = pd.to_datetime(data['End Time'], infer_datetime_format=True)"
   ]
  },
  {
   "cell_type": "code",
   "execution_count": null,
   "metadata": {},
   "outputs": [],
   "source": []
  },
  {
   "cell_type": "code",
   "execution_count": null,
   "metadata": {},
   "outputs": [],
   "source": []
  },
  {
   "cell_type": "code",
   "execution_count": null,
   "metadata": {},
   "outputs": [],
   "source": []
  },
  {
   "cell_type": "code",
   "execution_count": null,
   "metadata": {},
   "outputs": [],
   "source": []
  },
  {
   "cell_type": "code",
   "execution_count": null,
   "metadata": {},
   "outputs": [],
   "source": []
  },
  {
   "cell_type": "code",
   "execution_count": null,
   "metadata": {},
   "outputs": [],
   "source": []
  },
  {
   "cell_type": "code",
   "execution_count": null,
   "metadata": {},
   "outputs": [],
   "source": []
  },
  {
   "cell_type": "markdown",
   "metadata": {},
   "source": [
    "From https://chih-ling-hsu.github.io/2018/01/02/clustering-python"
   ]
  },
  {
   "cell_type": "code",
   "execution_count": 18,
   "metadata": {},
   "outputs": [],
   "source": [
    "from scipy.cluster.hierarchy import dendrogram, linkage, fcluster\n",
    "from geopy.distance import vincenty\n",
    "from sklearn.decomposition import PCA\n",
    "from sklearn.cluster import DBSCAN\n",
    "import matplotlib.cm as cm\n",
    "from scipy.spatial.distance import cdist, pdist\n",
    "from sklearn import metrics\n",
    "from sklearn.cluster import KMeans\n",
    "from sklearn.preprocessing import StandardScaler\n",
    "from datetime import datetime\n",
    "import pandas as pd\n",
    "import numpy as np\n",
    "import matplotlib.pyplot as plt\n",
    "plt.style.use('ggplot')\n",
    "# from mpl_toolkits.basemap import Basemap\n",
    "import copy\n",
    "import json\n",
    "import math\n",
    "from collections import OrderedDict\n",
    "import warnings\n",
    "warnings.filterwarnings('ignore')\n",
    "\n",
    "import geopandas as gpd\n",
    "\n",
    "%matplotlib inline"
   ]
  },
  {
   "cell_type": "code",
   "execution_count": 71,
   "metadata": {},
   "outputs": [],
   "source": [
    "file_location = 'Dockless_data_Austin.csv'\n",
    "df_loc = pd.read_csv(file_location, nrows=1000000)"
   ]
  },
  {
   "cell_type": "code",
   "execution_count": 21,
   "metadata": {},
   "outputs": [],
   "source": [
    "geolink = 'Council Districts Fill.geojson'\n",
    "geo = gpd.GeoDataFrame.from_file(geolink)"
   ]
  },
  {
   "cell_type": "code",
   "execution_count": 23,
   "metadata": {},
   "outputs": [
    {
     "data": {
      "image/png": "[encoded data removed]",
      "text/plain": [
       "<matplotlib.figure.Figure at 0x7f47c730f5f8>"
      ]
     },
     "metadata": {},
     "output_type": "display_data"
    }
   ],
   "source": [
    "geo.plot();"
   ]
  },
  {
   "cell_type": "code",
   "execution_count": 5,
   "metadata": {},
   "outputs": [],
   "source": [
    "#df_loc = df_loc.head(1000)"
   ]
  },
  {
   "cell_type": "code",
   "execution_count": 7,
   "metadata": {},
   "outputs": [
    {
     "data": {
      "text/plain": [
       "Index(['id', 'device_id', 'vehicle_type', 'trip_duration', 'trip_distance',\n",
       "       'start_time', 'end_time', 'modified_date', 'month', 'hour',\n",
       "       'day_of_week', 'council_district_start', 'council_district_end',\n",
       "       'origin_cell_id', 'destination_cell_id', 'year', 'start_latitude',\n",
       "       'start_longitude', 'end_latitude', 'end_longitude'],\n",
       "      dtype='object')"
      ]
     },
     "execution_count": 7,
     "metadata": {},
     "output_type": "execute_result"
    }
   ],
   "source": [
    "df_loc.columns"
   ]
  },
  {
   "cell_type": "markdown",
   "metadata": {},
   "source": [
    "## Spatial Clustering"
   ]
  },
  {
   "cell_type": "markdown",
   "metadata": {},
   "source": [
    "Using stations’ geo-information to do clustering"
   ]
  },
  {
   "cell_type": "code",
   "execution_count": 72,
   "metadata": {},
   "outputs": [],
   "source": [
    "X = df_loc[['start_latitude', 'start_longitude']].values"
   ]
  },
  {
   "cell_type": "markdown",
   "metadata": {},
   "source": [
    "### K-Means"
   ]
  },
  {
   "cell_type": "code",
   "execution_count": 73,
   "metadata": {},
   "outputs": [],
   "source": [
    "Ks = range(1, 10)\n",
    "kmean = [KMeans(n_clusters=i).fit(X) for i in Ks]"
   ]
  },
  {
   "cell_type": "markdown",
   "metadata": {},
   "source": [
    "#### Elbow Method"
   ]
  },
  {
   "cell_type": "markdown",
   "metadata": {},
   "source": [
    "The Elbow method is a method of interpretation and validation of consistency within cluster analysis designed to help finding the appropriate number of clusters in a dataset. This method looks at the percentage of variance explained as a function of the number of clusters: One should choose a number of clusters so that adding another cluster doesn’t give much better modeling of the data.\n",
    "Percentage of variance explained is the ratio of the between-group variance to the total variance."
   ]
  },
  {
   "cell_type": "code",
   "execution_count": 74,
   "metadata": {
    "scrolled": true
   },
   "outputs": [
    {
     "ename": "MemoryError",
     "evalue": "",
     "output_type": "error",
     "traceback": [
      "\u001b[0;31m---------------------------------------------------------------------------\u001b[0m",
      "\u001b[0;31mMemoryError\u001b[0m                               Traceback (most recent call last)",
      "\u001b[0;32m<ipython-input-74-1a79c2845fa9>\u001b[0m in \u001b[0;36m<module>\u001b[0;34m()\u001b[0m\n\u001b[1;32m     18\u001b[0m     \u001b[0mplt\u001b[0m\u001b[0;34m.\u001b[0m\u001b[0mshow\u001b[0m\u001b[0;34m(\u001b[0m\u001b[0;34m)\u001b[0m\u001b[0;34m\u001b[0m\u001b[0m\n\u001b[1;32m     19\u001b[0m \u001b[0;34m\u001b[0m\u001b[0m\n\u001b[0;32m---> 20\u001b[0;31m \u001b[0mplot_elbow\u001b[0m\u001b[0;34m(\u001b[0m\u001b[0mkmean\u001b[0m\u001b[0;34m,\u001b[0m \u001b[0mX\u001b[0m\u001b[0;34m)\u001b[0m\u001b[0;34m\u001b[0m\u001b[0m\n\u001b[0m",
      "\u001b[0;32m<ipython-input-74-1a79c2845fa9>\u001b[0m in \u001b[0;36mplot_elbow\u001b[0;34m(kmean, X)\u001b[0m\n\u001b[1;32m      6\u001b[0m     \u001b[0;31m# Total with-in sum of square\u001b[0m\u001b[0;34m\u001b[0m\u001b[0;34m\u001b[0m\u001b[0m\n\u001b[1;32m      7\u001b[0m     \u001b[0mwcss\u001b[0m \u001b[0;34m=\u001b[0m \u001b[0;34m[\u001b[0m\u001b[0msum\u001b[0m\u001b[0;34m(\u001b[0m\u001b[0md\u001b[0m\u001b[0;34m**\u001b[0m\u001b[0;36m2\u001b[0m\u001b[0;34m)\u001b[0m \u001b[0;32mfor\u001b[0m \u001b[0md\u001b[0m \u001b[0;32min\u001b[0m \u001b[0mdist\u001b[0m\u001b[0;34m]\u001b[0m\u001b[0;34m\u001b[0m\u001b[0m\n\u001b[0;32m----> 8\u001b[0;31m     \u001b[0mtss\u001b[0m \u001b[0;34m=\u001b[0m \u001b[0msum\u001b[0m\u001b[0;34m(\u001b[0m\u001b[0mpdist\u001b[0m\u001b[0;34m(\u001b[0m\u001b[0mX\u001b[0m\u001b[0;34m)\u001b[0m\u001b[0;34m**\u001b[0m\u001b[0;36m2\u001b[0m\u001b[0;34m)\u001b[0m\u001b[0;34m/\u001b[0m\u001b[0mX\u001b[0m\u001b[0;34m.\u001b[0m\u001b[0mshape\u001b[0m\u001b[0;34m[\u001b[0m\u001b[0;36m0\u001b[0m\u001b[0;34m]\u001b[0m\u001b[0;34m\u001b[0m\u001b[0m\n\u001b[0m\u001b[1;32m      9\u001b[0m     \u001b[0mbss\u001b[0m \u001b[0;34m=\u001b[0m \u001b[0mtss\u001b[0m\u001b[0;34m-\u001b[0m\u001b[0mwcss\u001b[0m\u001b[0;34m\u001b[0m\u001b[0m\n\u001b[1;32m     10\u001b[0m \u001b[0;34m\u001b[0m\u001b[0m\n",
      "\u001b[0;32m/usr/local/Anaconda3-5.0.0-Linux-x86_64/envs/PUI2016_Python3/lib/python3.5/site-packages/scipy/spatial/distance.py\u001b[0m in \u001b[0;36mpdist\u001b[0;34m(X, metric, p, w, V, VI)\u001b[0m\n\u001b[1;32m   1218\u001b[0m \u001b[0;34m\u001b[0m\u001b[0m\n\u001b[1;32m   1219\u001b[0m     \u001b[0mm\u001b[0m\u001b[0;34m,\u001b[0m \u001b[0mn\u001b[0m \u001b[0;34m=\u001b[0m \u001b[0ms\u001b[0m\u001b[0;34m\u001b[0m\u001b[0m\n\u001b[0;32m-> 1220\u001b[0;31m     \u001b[0mdm\u001b[0m \u001b[0;34m=\u001b[0m \u001b[0mnp\u001b[0m\u001b[0;34m.\u001b[0m\u001b[0mzeros\u001b[0m\u001b[0;34m(\u001b[0m\u001b[0;34m(\u001b[0m\u001b[0mm\u001b[0m \u001b[0;34m*\u001b[0m \u001b[0;34m(\u001b[0m\u001b[0mm\u001b[0m \u001b[0;34m-\u001b[0m \u001b[0;36m1\u001b[0m\u001b[0;34m)\u001b[0m\u001b[0;34m)\u001b[0m \u001b[0;34m//\u001b[0m \u001b[0;36m2\u001b[0m\u001b[0;34m,\u001b[0m \u001b[0mdtype\u001b[0m\u001b[0;34m=\u001b[0m\u001b[0mnp\u001b[0m\u001b[0;34m.\u001b[0m\u001b[0mdouble\u001b[0m\u001b[0;34m)\u001b[0m\u001b[0;34m\u001b[0m\u001b[0m\n\u001b[0m\u001b[1;32m   1221\u001b[0m \u001b[0;34m\u001b[0m\u001b[0m\n\u001b[1;32m   1222\u001b[0m     \u001b[0mwmink_names\u001b[0m \u001b[0;34m=\u001b[0m \u001b[0;34m[\u001b[0m\u001b[0;34m'wminkowski'\u001b[0m\u001b[0;34m,\u001b[0m \u001b[0;34m'wmi'\u001b[0m\u001b[0;34m,\u001b[0m \u001b[0;34m'wm'\u001b[0m\u001b[0;34m,\u001b[0m \u001b[0;34m'wpnorm'\u001b[0m\u001b[0;34m]\u001b[0m\u001b[0;34m\u001b[0m\u001b[0m\n",
      "\u001b[0;31mMemoryError\u001b[0m: "
     ]
    }
   ],
   "source": [
    "def plot_elbow(kmean, X):\n",
    "    centroids = [k.cluster_centers_ for k in kmean]\n",
    "    D_k = [cdist(X, center, 'euclidean') for center in centroids]\n",
    "    dist = [np.min(D,axis=1) for D in D_k]\n",
    "\n",
    "    # Total with-in sum of square\n",
    "    wcss = [sum(d**2) for d in dist]\n",
    "    tss = sum(pdist(X)**2)/X.shape[0]\n",
    "    bss = tss-wcss\n",
    "\n",
    "    plt.subplots(nrows=1, ncols=1, figsize=(8,8))\n",
    "    ax = plt.subplot(1, 1, 1)\n",
    "    ax.plot(Ks, bss/tss*100, 'b*-')\n",
    "    plt.grid(True)\n",
    "    plt.xlabel('Number of clusters')\n",
    "    plt.ylabel('Percentage of variance explained (%)')\n",
    "    plt.title('Elbow for KMeans clustering')\n",
    "    plt.show()\n",
    "\n",
    "plot_elbow(kmean, X)"
   ]
  },
  {
   "cell_type": "code",
   "execution_count": 79,
   "metadata": {},
   "outputs": [],
   "source": [
    "from sklearn.cluster import KMeans\n",
    "kmeans = KMeans(n_clusters=2)\n",
    "kmeans.fit(X)\n",
    "y_kmeans = kmeans.predict(X)\n"
   ]
  },
  {
   "cell_type": "code",
   "execution_count": 80,
   "metadata": {},
   "outputs": [],
   "source": [
    "centers = kmeans.cluster_centers_\n"
   ]
  },
  {
   "cell_type": "code",
   "execution_count": 81,
   "metadata": {},
   "outputs": [
    {
     "data": {
      "text/plain": [
       "<function matplotlib.pyplot.scatter>"
      ]
     },
     "execution_count": 81,
     "metadata": {},
     "output_type": "execute_result"
    }
   ],
   "source": [
    "plt.scatter"
   ]
  },
  {
   "cell_type": "code",
   "execution_count": 82,
   "metadata": {
    "scrolled": true
   },
   "outputs": [
    {
     "data": {
      "text/plain": [
       "<matplotlib.collections.PathCollection at 0x7f47c8610c88>"
      ]
     },
     "execution_count": 82,
     "metadata": {},
     "output_type": "execute_result"
    },
    {
     "data": {
      "image/png": "[encoded data removed]",
      "text/plain": [
       "<matplotlib.figure.Figure at 0x7f47d43b01d0>"
      ]
     },
     "metadata": {},
     "output_type": "display_data"
    }
   ],
   "source": [
    "fig, ax = plt.subplots(1, figsize=(8,8))\n",
    "geo.plot(ax=ax, color='black', edgecolor='white')\n",
    "plt.scatter(centers[:, 1], centers[:, 0], s=400, alpha=0.8)"
   ]
  },
  {
   "cell_type": "code",
   "execution_count": null,
   "metadata": {},
   "outputs": [],
   "source": []
  },
  {
   "cell_type": "code",
   "execution_count": null,
   "metadata": {},
   "outputs": [],
   "source": []
  },
  {
   "cell_type": "code",
   "execution_count": 83,
   "metadata": {},
   "outputs": [
    {
     "name": "stdout",
     "output_type": "stream",
     "text": [
      "Council Districts Fill.geojson\tDockless_data_Austin.csv\r\n",
      "Council Districts Fill.zip\tdockless_scooters.ipynb\r\n"
     ]
    }
   ],
   "source": [
    "!ls"
   ]
  },
  {
   "cell_type": "code",
   "execution_count": 85,
   "metadata": {},
   "outputs": [],
   "source": [
    "scooters = pd.read_csv('Dockless_data_Austin.csv')"
   ]
  },
  {
   "cell_type": "code",
   "execution_count": 86,
   "metadata": {},
   "outputs": [
    {
     "data": {
      "text/plain": [
       "Index(['id', 'device_id', 'vehicle_type', 'trip_duration', 'trip_distance',\n",
       "       'start_time', 'end_time', 'modified_date', 'month', 'hour',\n",
       "       'day_of_week', 'council_district_start', 'council_district_end',\n",
       "       'origin_cell_id', 'destination_cell_id', 'year', 'start_latitude',\n",
       "       'start_longitude', 'end_latitude', 'end_longitude'],\n",
       "      dtype='object')"
      ]
     },
     "execution_count": 86,
     "metadata": {},
     "output_type": "execute_result"
    }
   ],
   "source": [
    "scooters.columns"
   ]
  },
  {
   "cell_type": "code",
   "execution_count": 89,
   "metadata": {
    "scrolled": true
   },
   "outputs": [
    {
     "data": {
      "text/plain": [
       "26096"
      ]
     },
     "execution_count": 89,
     "metadata": {},
     "output_type": "execute_result"
    }
   ],
   "source": [
    "scooters.device_id.nunique()"
   ]
  },
  {
   "cell_type": "code",
   "execution_count": 99,
   "metadata": {},
   "outputs": [
    {
     "ename": "TypeError",
     "evalue": "count() takes 1 positional argument but 2 were given",
     "output_type": "error",
     "traceback": [
      "\u001b[0;31m---------------------------------------------------------------------------\u001b[0m",
      "\u001b[0;31mTypeError\u001b[0m                                 Traceback (most recent call last)",
      "\u001b[0;32m<ipython-input-99-9a214a8da230>\u001b[0m in \u001b[0;36m<module>\u001b[0;34m()\u001b[0m\n\u001b[0;32m----> 1\u001b[0;31m \u001b[0mscooters\u001b[0m\u001b[0;34m[\u001b[0m\u001b[0;34m[\u001b[0m\u001b[0;34m'device_id'\u001b[0m\u001b[0;34m,\u001b[0m \u001b[0;34m'id'\u001b[0m\u001b[0;34m]\u001b[0m\u001b[0;34m]\u001b[0m\u001b[0;34m.\u001b[0m\u001b[0mgroupby\u001b[0m\u001b[0;34m(\u001b[0m\u001b[0;34m'device_id'\u001b[0m\u001b[0;34m)\u001b[0m\u001b[0;34m.\u001b[0m\u001b[0mcount\u001b[0m\u001b[0;34m(\u001b[0m\u001b[0;34m'id'\u001b[0m\u001b[0;34m)\u001b[0m\u001b[0;34m\u001b[0m\u001b[0m\n\u001b[0m",
      "\u001b[0;31mTypeError\u001b[0m: count() takes 1 positional argument but 2 were given"
     ]
    }
   ],
   "source": [
    "ride_per_device = scooters[['device_id', 'id']].groupby('device_id').count('id')"
   ]
  },
  {
   "cell_type": "code",
   "execution_count": 110,
   "metadata": {},
   "outputs": [
    {
     "data": {
      "text/html": [
       "<div>\n",
       "<table border=\"1\" class=\"dataframe\">\n",
       "  <thead>\n",
       "    <tr style=\"text-align: right;\">\n",
       "      <th></th>\n",
       "      <th>id</th>\n",
       "    </tr>\n",
       "    <tr>\n",
       "      <th>device_id</th>\n",
       "      <th></th>\n",
       "    </tr>\n",
       "  </thead>\n",
       "  <tbody>\n",
       "    <tr>\n",
       "      <th>00066528-4d85-4cc8-bacf-a904f3ec96d8</th>\n",
       "      <td>234</td>\n",
       "    </tr>\n",
       "    <tr>\n",
       "      <th>001302a8-573f-4305-98e2-2f719eb0d840</th>\n",
       "      <td>87</td>\n",
       "    </tr>\n",
       "    <tr>\n",
       "      <th>0016d2fd-6dec-4fd5-8834-e21cbcd98eac</th>\n",
       "      <td>172</td>\n",
       "    </tr>\n",
       "    <tr>\n",
       "      <th>00197264-a88c-4c8f-9f19-efe6c2c25dfb</th>\n",
       "      <td>25</td>\n",
       "    </tr>\n",
       "    <tr>\n",
       "      <th>0019f934-1dfb-4225-be32-1a6b647c6efc</th>\n",
       "      <td>90</td>\n",
       "    </tr>\n",
       "  </tbody>\n",
       "</table>\n",
       "</div>"
      ],
      "text/plain": [
       "                                       id\n",
       "device_id                                \n",
       "00066528-4d85-4cc8-bacf-a904f3ec96d8  234\n",
       "001302a8-573f-4305-98e2-2f719eb0d840   87\n",
       "0016d2fd-6dec-4fd5-8834-e21cbcd98eac  172\n",
       "00197264-a88c-4c8f-9f19-efe6c2c25dfb   25\n",
       "0019f934-1dfb-4225-be32-1a6b647c6efc   90"
      ]
     },
     "execution_count": 110,
     "metadata": {},
     "output_type": "execute_result"
    }
   ],
   "source": [
    "ride_per_device.head()"
   ]
  },
  {
   "cell_type": "code",
   "execution_count": 112,
   "metadata": {},
   "outputs": [],
   "source": [
    "ride_per_device.reset_index(inplace=True)"
   ]
  },
  {
   "cell_type": "code",
   "execution_count": 114,
   "metadata": {},
   "outputs": [],
   "source": [
    "ride_per_device = ride_per_device.rename(columns={'id':'number_of_rides'})"
   ]
  },
  {
   "cell_type": "code",
   "execution_count": 116,
   "metadata": {},
   "outputs": [
    {
     "name": "stdout",
     "output_type": "stream",
     "text": [
      "<class 'pandas.core.frame.DataFrame'>\n",
      "RangeIndex: 26096 entries, 0 to 26095\n",
      "Data columns (total 2 columns):\n",
      "device_id          26096 non-null object\n",
      "number_of_rides    26096 non-null int64\n",
      "dtypes: int64(1), object(1)\n",
      "memory usage: 407.8+ KB\n"
     ]
    }
   ],
   "source": [
    "ride_per_device.info()"
   ]
  },
  {
   "cell_type": "code",
   "execution_count": 142,
   "metadata": {
    "scrolled": true
   },
   "outputs": [
    {
     "data": {
      "text/html": [
       "<div>\n",
       "<table border=\"1\" class=\"dataframe\">\n",
       "  <thead>\n",
       "    <tr style=\"text-align: right;\">\n",
       "      <th></th>\n",
       "      <th>device_id</th>\n",
       "      <th>number_of_rides</th>\n",
       "    </tr>\n",
       "  </thead>\n",
       "  <tbody>\n",
       "    <tr>\n",
       "      <th>3</th>\n",
       "      <td>00197264-a88c-4c8f-9f19-efe6c2c25dfb</td>\n",
       "      <td>25</td>\n",
       "    </tr>\n",
       "    <tr>\n",
       "      <th>14</th>\n",
       "      <td>00387fab-9fa4-439b-99f6-179c71f38326</td>\n",
       "      <td>21</td>\n",
       "    </tr>\n",
       "    <tr>\n",
       "      <th>15</th>\n",
       "      <td>0044a782-a09f-41ed-b07d-f73a6c033b52</td>\n",
       "      <td>2</td>\n",
       "    </tr>\n",
       "    <tr>\n",
       "      <th>20</th>\n",
       "      <td>005b8a5c-c5f3-4b8d-8d94-69f4161c5835</td>\n",
       "      <td>16</td>\n",
       "    </tr>\n",
       "    <tr>\n",
       "      <th>26</th>\n",
       "      <td>0068633b-943c-436e-9d73-4cbfd037a0f6</td>\n",
       "      <td>16</td>\n",
       "    </tr>\n",
       "    <tr>\n",
       "      <th>27</th>\n",
       "      <td>00774896-d93b-40db-bee8-9bdb331b4afd</td>\n",
       "      <td>41</td>\n",
       "    </tr>\n",
       "    <tr>\n",
       "      <th>31</th>\n",
       "      <td>0089793f-e637-4f80-84aa-3e22927f2a7e</td>\n",
       "      <td>21</td>\n",
       "    </tr>\n",
       "    <tr>\n",
       "      <th>32</th>\n",
       "      <td>00899b2f-ff0b-490e-beb8-cb0a4884ac4e</td>\n",
       "      <td>1</td>\n",
       "    </tr>\n",
       "    <tr>\n",
       "      <th>33</th>\n",
       "      <td>008a542b-5734-4ab3-bdea-4c0e5d81eacc</td>\n",
       "      <td>26</td>\n",
       "    </tr>\n",
       "    <tr>\n",
       "      <th>34</th>\n",
       "      <td>008b8abf-a663-4953-9234-7f816559a27c</td>\n",
       "      <td>41</td>\n",
       "    </tr>\n",
       "    <tr>\n",
       "      <th>35</th>\n",
       "      <td>00913cda-9acf-488d-be92-fa02b95ca76c</td>\n",
       "      <td>34</td>\n",
       "    </tr>\n",
       "    <tr>\n",
       "      <th>37</th>\n",
       "      <td>0096137b-da96-4458-9985-4dd52ebd26ae</td>\n",
       "      <td>25</td>\n",
       "    </tr>\n",
       "    <tr>\n",
       "      <th>38</th>\n",
       "      <td>00965605-6c72-4de4-96cd-1c7c5caa9570</td>\n",
       "      <td>9</td>\n",
       "    </tr>\n",
       "    <tr>\n",
       "      <th>41</th>\n",
       "      <td>009df1bf-6493-4e7a-9d28-0137624ed73f</td>\n",
       "      <td>13</td>\n",
       "    </tr>\n",
       "    <tr>\n",
       "      <th>44</th>\n",
       "      <td>00a16094-74f6-479f-8de1-b3c587391846</td>\n",
       "      <td>11</td>\n",
       "    </tr>\n",
       "    <tr>\n",
       "      <th>45</th>\n",
       "      <td>00a1d88e-27b0-473f-88d7-4ac7d352cea5</td>\n",
       "      <td>48</td>\n",
       "    </tr>\n",
       "    <tr>\n",
       "      <th>50</th>\n",
       "      <td>00b5be41-498c-449f-9389-be45954b38b3</td>\n",
       "      <td>12</td>\n",
       "    </tr>\n",
       "    <tr>\n",
       "      <th>51</th>\n",
       "      <td>00b5e295-2d5d-4e6d-ad8e-db6db317cb49</td>\n",
       "      <td>21</td>\n",
       "    </tr>\n",
       "    <tr>\n",
       "      <th>55</th>\n",
       "      <td>00bd95f7-5c8f-45f1-addc-9e1da776a69f</td>\n",
       "      <td>21</td>\n",
       "    </tr>\n",
       "    <tr>\n",
       "      <th>61</th>\n",
       "      <td>00cd3582-df46-4c2f-a044-9746266ede80</td>\n",
       "      <td>40</td>\n",
       "    </tr>\n",
       "    <tr>\n",
       "      <th>62</th>\n",
       "      <td>00cf16de-03a3-4a5f-bf2e-4078cdf2491a</td>\n",
       "      <td>16</td>\n",
       "    </tr>\n",
       "    <tr>\n",
       "      <th>63</th>\n",
       "      <td>00d11cf1-3131-4dd9-9029-f087a781123c</td>\n",
       "      <td>13</td>\n",
       "    </tr>\n",
       "    <tr>\n",
       "      <th>65</th>\n",
       "      <td>00d57be0-8fa4-410a-96c8-2ca7e57cec22</td>\n",
       "      <td>2</td>\n",
       "    </tr>\n",
       "    <tr>\n",
       "      <th>66</th>\n",
       "      <td>00d98bc2-435a-4da7-b6da-1b68aada2563</td>\n",
       "      <td>2</td>\n",
       "    </tr>\n",
       "    <tr>\n",
       "      <th>68</th>\n",
       "      <td>00dae98c-05da-49f6-b35c-84bb94eedaf8</td>\n",
       "      <td>34</td>\n",
       "    </tr>\n",
       "    <tr>\n",
       "      <th>73</th>\n",
       "      <td>00e8a650-8b7c-4ad8-a42b-b05e38d23e2a</td>\n",
       "      <td>42</td>\n",
       "    </tr>\n",
       "    <tr>\n",
       "      <th>76</th>\n",
       "      <td>00f7bb4d-661c-4a64-b04f-5e6f8952d1b4</td>\n",
       "      <td>10</td>\n",
       "    </tr>\n",
       "    <tr>\n",
       "      <th>80</th>\n",
       "      <td>01035b14-4ae2-495f-aa24-df04eefc855c</td>\n",
       "      <td>14</td>\n",
       "    </tr>\n",
       "    <tr>\n",
       "      <th>81</th>\n",
       "      <td>01049533-d79d-4668-b4f9-9ad0af6004c0</td>\n",
       "      <td>5</td>\n",
       "    </tr>\n",
       "    <tr>\n",
       "      <th>85</th>\n",
       "      <td>0108fa51-796a-4c50-93c2-57b54841ffc6</td>\n",
       "      <td>27</td>\n",
       "    </tr>\n",
       "    <tr>\n",
       "      <th>...</th>\n",
       "      <td>...</td>\n",
       "      <td>...</td>\n",
       "    </tr>\n",
       "    <tr>\n",
       "      <th>26006</th>\n",
       "      <td>ff2ce194-90a0-4f20-a365-09265b216848</td>\n",
       "      <td>6</td>\n",
       "    </tr>\n",
       "    <tr>\n",
       "      <th>26007</th>\n",
       "      <td>ff33a396-7c29-4844-95ba-213862c52fac</td>\n",
       "      <td>22</td>\n",
       "    </tr>\n",
       "    <tr>\n",
       "      <th>26011</th>\n",
       "      <td>ff3c5bd4-141d-4418-9f91-bea610e2e8b5</td>\n",
       "      <td>14</td>\n",
       "    </tr>\n",
       "    <tr>\n",
       "      <th>26012</th>\n",
       "      <td>ff3fcceb-8016-42d9-ad55-695a697ea3e6</td>\n",
       "      <td>49</td>\n",
       "    </tr>\n",
       "    <tr>\n",
       "      <th>26014</th>\n",
       "      <td>ff444f5b-bb85-465e-90fc-ebc6ce569795</td>\n",
       "      <td>40</td>\n",
       "    </tr>\n",
       "    <tr>\n",
       "      <th>26015</th>\n",
       "      <td>ff44cccd-21a3-44cf-8fda-bc13a29b8b3a</td>\n",
       "      <td>18</td>\n",
       "    </tr>\n",
       "    <tr>\n",
       "      <th>26017</th>\n",
       "      <td>ff4ae63e-ea2f-44ee-ad17-fe1178aa75cf</td>\n",
       "      <td>21</td>\n",
       "    </tr>\n",
       "    <tr>\n",
       "      <th>26019</th>\n",
       "      <td>ff4f9231-34e0-4da6-a7be-21f3f13283f8</td>\n",
       "      <td>23</td>\n",
       "    </tr>\n",
       "    <tr>\n",
       "      <th>26020</th>\n",
       "      <td>ff50a162-dba7-42fc-b7b0-0aeb61a2c23d</td>\n",
       "      <td>34</td>\n",
       "    </tr>\n",
       "    <tr>\n",
       "      <th>26022</th>\n",
       "      <td>ff5602ec-0b93-4afd-9ef4-0d0262a56b0f</td>\n",
       "      <td>19</td>\n",
       "    </tr>\n",
       "    <tr>\n",
       "      <th>26023</th>\n",
       "      <td>ff561672-a3c0-4e3c-9fcb-aad3f8041ec6</td>\n",
       "      <td>25</td>\n",
       "    </tr>\n",
       "    <tr>\n",
       "      <th>26026</th>\n",
       "      <td>ff58db4a-a2e7-43f1-aa35-a8401e378c39</td>\n",
       "      <td>38</td>\n",
       "    </tr>\n",
       "    <tr>\n",
       "      <th>26031</th>\n",
       "      <td>ff6c0d85-3552-4650-9624-a2d4cf0c024b</td>\n",
       "      <td>5</td>\n",
       "    </tr>\n",
       "    <tr>\n",
       "      <th>26037</th>\n",
       "      <td>ff7843a5-7167-4db1-9cb8-333b2f8f2c58</td>\n",
       "      <td>33</td>\n",
       "    </tr>\n",
       "    <tr>\n",
       "      <th>26038</th>\n",
       "      <td>ff7e8c98-c40b-4896-a644-6d03c06e038a</td>\n",
       "      <td>40</td>\n",
       "    </tr>\n",
       "    <tr>\n",
       "      <th>26042</th>\n",
       "      <td>ff8b5f1c-5225-4acb-808d-1dfafa7a98f6</td>\n",
       "      <td>25</td>\n",
       "    </tr>\n",
       "    <tr>\n",
       "      <th>26044</th>\n",
       "      <td>ff8f8ccb-fb0c-4041-88a0-4dc2895dee4e</td>\n",
       "      <td>24</td>\n",
       "    </tr>\n",
       "    <tr>\n",
       "      <th>26046</th>\n",
       "      <td>ff92a763-f070-431e-98d4-3b9e7297a995</td>\n",
       "      <td>3</td>\n",
       "    </tr>\n",
       "    <tr>\n",
       "      <th>26054</th>\n",
       "      <td>ffa0e067-4994-4ace-94df-bdfce84e62cf</td>\n",
       "      <td>32</td>\n",
       "    </tr>\n",
       "    <tr>\n",
       "      <th>26060</th>\n",
       "      <td>ffad06c4-d7fc-4cce-880e-7f75a2aef9c2</td>\n",
       "      <td>13</td>\n",
       "    </tr>\n",
       "    <tr>\n",
       "      <th>26068</th>\n",
       "      <td>ffc598a5-0df6-43d8-a0bd-1282aecaea67</td>\n",
       "      <td>27</td>\n",
       "    </tr>\n",
       "    <tr>\n",
       "      <th>26072</th>\n",
       "      <td>ffcc35ed-0f1d-4041-9626-55af9c0d676f</td>\n",
       "      <td>19</td>\n",
       "    </tr>\n",
       "    <tr>\n",
       "      <th>26074</th>\n",
       "      <td>ffceadaa-0170-489c-a82f-e4173e25b426</td>\n",
       "      <td>13</td>\n",
       "    </tr>\n",
       "    <tr>\n",
       "      <th>26077</th>\n",
       "      <td>ffdc79ea-3b73-42ac-983c-48fac809b946</td>\n",
       "      <td>27</td>\n",
       "    </tr>\n",
       "    <tr>\n",
       "      <th>26079</th>\n",
       "      <td>ffddc2b0-2e80-4b60-ba65-ce5aa67ce0fc</td>\n",
       "      <td>35</td>\n",
       "    </tr>\n",
       "    <tr>\n",
       "      <th>26080</th>\n",
       "      <td>ffe175e7-8d06-4a1a-8521-5c6828f91853</td>\n",
       "      <td>11</td>\n",
       "    </tr>\n",
       "    <tr>\n",
       "      <th>26087</th>\n",
       "      <td>ffeb78a9-95ce-4788-9a91-a9c30ce32d20</td>\n",
       "      <td>4</td>\n",
       "    </tr>\n",
       "    <tr>\n",
       "      <th>26088</th>\n",
       "      <td>ffedf802-234d-4d09-86df-ceff90a473ad</td>\n",
       "      <td>45</td>\n",
       "    </tr>\n",
       "    <tr>\n",
       "      <th>26094</th>\n",
       "      <td>fffa29f1-e1df-43e0-8141-477a024167b0</td>\n",
       "      <td>48</td>\n",
       "    </tr>\n",
       "    <tr>\n",
       "      <th>26095</th>\n",
       "      <td>fffa5705-72c5-473d-b76e-5696d63d3521</td>\n",
       "      <td>5</td>\n",
       "    </tr>\n",
       "  </tbody>\n",
       "</table>\n",
       "<p>8906 rows × 2 columns</p>\n",
       "</div>"
      ],
      "text/plain": [
       "                                  device_id  number_of_rides\n",
       "3      00197264-a88c-4c8f-9f19-efe6c2c25dfb               25\n",
       "14     00387fab-9fa4-439b-99f6-179c71f38326               21\n",
       "15     0044a782-a09f-41ed-b07d-f73a6c033b52                2\n",
       "20     005b8a5c-c5f3-4b8d-8d94-69f4161c5835               16\n",
       "26     0068633b-943c-436e-9d73-4cbfd037a0f6               16\n",
       "27     00774896-d93b-40db-bee8-9bdb331b4afd               41\n",
       "31     0089793f-e637-4f80-84aa-3e22927f2a7e               21\n",
       "32     00899b2f-ff0b-490e-beb8-cb0a4884ac4e                1\n",
       "33     008a542b-5734-4ab3-bdea-4c0e5d81eacc               26\n",
       "34     008b8abf-a663-4953-9234-7f816559a27c               41\n",
       "35     00913cda-9acf-488d-be92-fa02b95ca76c               34\n",
       "37     0096137b-da96-4458-9985-4dd52ebd26ae               25\n",
       "38     00965605-6c72-4de4-96cd-1c7c5caa9570                9\n",
       "41     009df1bf-6493-4e7a-9d28-0137624ed73f               13\n",
       "44     00a16094-74f6-479f-8de1-b3c587391846               11\n",
       "45     00a1d88e-27b0-473f-88d7-4ac7d352cea5               48\n",
       "50     00b5be41-498c-449f-9389-be45954b38b3               12\n",
       "51     00b5e295-2d5d-4e6d-ad8e-db6db317cb49               21\n",
       "55     00bd95f7-5c8f-45f1-addc-9e1da776a69f               21\n",
       "61     00cd3582-df46-4c2f-a044-9746266ede80               40\n",
       "62     00cf16de-03a3-4a5f-bf2e-4078cdf2491a               16\n",
       "63     00d11cf1-3131-4dd9-9029-f087a781123c               13\n",
       "65     00d57be0-8fa4-410a-96c8-2ca7e57cec22                2\n",
       "66     00d98bc2-435a-4da7-b6da-1b68aada2563                2\n",
       "68     00dae98c-05da-49f6-b35c-84bb94eedaf8               34\n",
       "73     00e8a650-8b7c-4ad8-a42b-b05e38d23e2a               42\n",
       "76     00f7bb4d-661c-4a64-b04f-5e6f8952d1b4               10\n",
       "80     01035b14-4ae2-495f-aa24-df04eefc855c               14\n",
       "81     01049533-d79d-4668-b4f9-9ad0af6004c0                5\n",
       "85     0108fa51-796a-4c50-93c2-57b54841ffc6               27\n",
       "...                                     ...              ...\n",
       "26006  ff2ce194-90a0-4f20-a365-09265b216848                6\n",
       "26007  ff33a396-7c29-4844-95ba-213862c52fac               22\n",
       "26011  ff3c5bd4-141d-4418-9f91-bea610e2e8b5               14\n",
       "26012  ff3fcceb-8016-42d9-ad55-695a697ea3e6               49\n",
       "26014  ff444f5b-bb85-465e-90fc-ebc6ce569795               40\n",
       "26015  ff44cccd-21a3-44cf-8fda-bc13a29b8b3a               18\n",
       "26017  ff4ae63e-ea2f-44ee-ad17-fe1178aa75cf               21\n",
       "26019  ff4f9231-34e0-4da6-a7be-21f3f13283f8               23\n",
       "26020  ff50a162-dba7-42fc-b7b0-0aeb61a2c23d               34\n",
       "26022  ff5602ec-0b93-4afd-9ef4-0d0262a56b0f               19\n",
       "26023  ff561672-a3c0-4e3c-9fcb-aad3f8041ec6               25\n",
       "26026  ff58db4a-a2e7-43f1-aa35-a8401e378c39               38\n",
       "26031  ff6c0d85-3552-4650-9624-a2d4cf0c024b                5\n",
       "26037  ff7843a5-7167-4db1-9cb8-333b2f8f2c58               33\n",
       "26038  ff7e8c98-c40b-4896-a644-6d03c06e038a               40\n",
       "26042  ff8b5f1c-5225-4acb-808d-1dfafa7a98f6               25\n",
       "26044  ff8f8ccb-fb0c-4041-88a0-4dc2895dee4e               24\n",
       "26046  ff92a763-f070-431e-98d4-3b9e7297a995                3\n",
       "26054  ffa0e067-4994-4ace-94df-bdfce84e62cf               32\n",
       "26060  ffad06c4-d7fc-4cce-880e-7f75a2aef9c2               13\n",
       "26068  ffc598a5-0df6-43d8-a0bd-1282aecaea67               27\n",
       "26072  ffcc35ed-0f1d-4041-9626-55af9c0d676f               19\n",
       "26074  ffceadaa-0170-489c-a82f-e4173e25b426               13\n",
       "26077  ffdc79ea-3b73-42ac-983c-48fac809b946               27\n",
       "26079  ffddc2b0-2e80-4b60-ba65-ce5aa67ce0fc               35\n",
       "26080  ffe175e7-8d06-4a1a-8521-5c6828f91853               11\n",
       "26087  ffeb78a9-95ce-4788-9a91-a9c30ce32d20                4\n",
       "26088  ffedf802-234d-4d09-86df-ceff90a473ad               45\n",
       "26094  fffa29f1-e1df-43e0-8141-477a024167b0               48\n",
       "26095  fffa5705-72c5-473d-b76e-5696d63d3521                5\n",
       "\n",
       "[8906 rows x 2 columns]"
      ]
     },
     "execution_count": 142,
     "metadata": {},
     "output_type": "execute_result"
    }
   ],
   "source": [
    "ride_per_device[ride_per_device['number_of_rides'] < 50]"
   ]
  },
  {
   "cell_type": "code",
   "execution_count": null,
   "metadata": {},
   "outputs": [],
   "source": []
  }
 ],
 "metadata": {
  "kernelspec": {
   "display_name": "PUI2016_Python3",
   "language": "python",
   "name": "pui2016_python3"
  },
  "language_info": {
   "codemirror_mode": {
    "name": "ipython",
    "version": 3
   },
   "file_extension": ".py",
   "mimetype": "text/x-python",
   "name": "python",
   "nbconvert_exporter": "python",
   "pygments_lexer": "ipython3",
   "version": "3.5.4"
  }
 },
 "nbformat": 4,
 "nbformat_minor": 2
}
